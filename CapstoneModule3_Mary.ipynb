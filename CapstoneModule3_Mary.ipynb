{
 "cells": [
  {
   "attachments": {},
   "cell_type": "markdown",
   "metadata": {},
   "source": [
    "# **E-COMMERCE CUSTOMER CHURN**"
   ]
  },
  {
   "attachments": {},
   "cell_type": "markdown",
   "metadata": {},
   "source": [
    "`Created by : Mary Amalia Wauran`"
   ]
  },
  {
   "attachments": {},
   "cell_type": "markdown",
   "metadata": {},
   "source": [
    "---\n",
    "## **Business Problem Understanding**"
   ]
  },
  {
   "attachments": {},
   "cell_type": "markdown",
   "metadata": {},
   "source": [
    "### Context"
   ]
  },
  {
   "attachments": {},
   "cell_type": "markdown",
   "metadata": {},
   "source": [
    "Perusahaan electronic commerce (E-commerce) atau perdagangan elektronik adalah perusahaan yang melakukan kegiatan jual atau beli secara online dengan menggunakan internet. Perusahan e-commerce perlu melakukan evaluasi pelanggan untuk mengetahui customer churn pada perusahaan.\n"
   ]
  },
  {
   "attachments": {},
   "cell_type": "markdown",
   "metadata": {},
   "source": [
    "### Problem Statement"
   ]
  },
  {
   "attachments": {},
   "cell_type": "markdown",
   "metadata": {},
   "source": [
    "Sebuah perusahaan e-commerce ingin mengetahui customer churn atau pelanggan yang tidak menggunakan jasa perusahaan lagi, sehingga dapat menimbulkan kerugian bagi perusahaan. Oleh karena itu, perusahaan perlu melakukan prediksi terhadap customer, agar sebelum costumer benar-benar churn, perusahaan dapat menjangkau customer tersebut dengan memberikan layanan yang lebih baik, seperti memberikan promo yang menarik. Namun, sebaiknya promo diberikan kepada orang yang tepat. Dengan demikian, perusahaan dapat menghindari kerugian yang akan terjadi akibat kehilangan pelanggan."
   ]
  },
  {
   "attachments": {},
   "cell_type": "markdown",
   "metadata": {},
   "source": [
    "### Goals"
   ]
  },
  {
   "attachments": {},
   "cell_type": "markdown",
   "metadata": {},
   "source": [
    "- Melakukan prediksi untuk mengetahui customer yang berpotensi melakukan churn, agar promosi yang diberikan perusahaan tepat sasaran.\n",
    "- Mengetahui faktor-faktor yang mempengaruhi customer churn untuk menghindari kerugian pada perusahaan."
   ]
  },
  {
   "attachments": {},
   "cell_type": "markdown",
   "metadata": {},
   "source": [
    "### Analytic Approach"
   ]
  },
  {
   "attachments": {},
   "cell_type": "markdown",
   "metadata": {},
   "source": [
    "- Menemukan pola yang membedakan antara customer yang melakukan churn dan yang tidak melakukan churn dengan cara menganalisis data yang ada pada perusahaan.\n",
    "- Melakukan prediksi pada customer (churn atau tidak churn) dengan membuat model klasifikasi"
   ]
  },
  {
   "attachments": {},
   "cell_type": "markdown",
   "metadata": {},
   "source": [
    "### Metric Evaluation"
   ]
  },
  {
   "attachments": {
    "image.png": {
     "image/png": "[encoded data removed]"
    }
   },
   "cell_type": "markdown",
   "metadata": {},
   "source": [
    "![image.png](attachment:image.png)\n",
    "\n",
    "- **True Positive (TP)**: Customer diprediksi dan kenyataannya melakukan churn\n",
    "- **False Positive (FP)**: Customer diprediksi melakukan churn, namun pada kenyataannya customer tidak melakukan churn\n",
    "- **False Negative (FN)**: Customer diprediksi tidak melakukan churn, namun pada kenyataannya customer melakukan churn\n",
    "- **True Negative (TN)**: Customer diprediksi dan kenyataannya tidak melakukan churn\n",
    "\n",
    "Dalam melakukan prediksi, kesalahan yang dapat terjadi yaitu:\n",
    "\n",
    "**Type 1 error**: False Positive \n",
    "- Action: Memberikan promosi dengan perkiraan cost sebesar *$150* per capita per tahun.\n",
    "- Konsekuensi: Memberikan promo pada target yang salah, sehingga perusahaan mengeluarkan biaya yang tidak tepat\n",
    "\n",
    " **Type 2 error**: False Negative\n",
    "- Action: Tidak memberi perhatian pada customer ini yang kita prediksi tidak akan melakukan churn, dan dapat memberikan profit kepada perusahan dengan perkiraan cost *$600* per capita per tahun.\n",
    "- Konsekuensi: Perusahaan mengalami kerugian karena kehilangan customer yang memberikan profit bagi perusahaan\n",
    "\n",
    "Berdasarkan dari kemungkinan kesalahan prediksi di atas, maka model yang dibuat harus dapat mengurangi kerugian perusahaan karena kehilangan customer atau menekan False Negative, namun tetap menjaga agar perusahaan tidak mengeluarkan biaya yang tidak tepat sasaran dalam memberikan promosi (False Positive). Oleh karena itu, metric utama yang digunakan yaitu `f2 score`.\n",
    "\n",
    "F2 score adalah salah satu classification evaluation metrics yang mengukur akurasi model dengan mempertimbangkan trade-off antara precision dan recall. F2 score didasarkan pada nilai beta di mana beta lebih besar dari 1 memberikan lebih banyak penekanan pada recall daripada precision.\n",
    "F2 score dapat digunakan untuk mengevaluasi performa model klasifikasi di mana kesalahan false negative lebih penting untuk dihindari daripada false positive."
   ]
  },
  {
   "attachments": {},
   "cell_type": "markdown",
   "metadata": {},
   "source": [
    "### Dataset"
   ]
  },
  {
   "attachments": {},
   "cell_type": "markdown",
   "metadata": {},
   "source": [
    "**Dataset E-commerce Customer Churn**\n",
    "\n",
    "Dataset milik perusahaan E-Commerce online terkemuka. Sebuah perusahaan ritel online (E-commerce) ingin mengetahui pelanggan yang akan melakukan churn, sehingga mereka dapat mendekati pelanggan untuk menawarkan beberapa promo.\n",
    "\n",
    "- Sumber data asli : https://www.kaggle.com/datasets/ankitverma2010/ecommerce-customer-churn-analysis-and-prediction\n",
    "- Pembuat data : Ankit Verma\n",
    "- Tanggal : 16 Februari 2022\n",
    "\n",
    "**Target and Features**\n",
    "\n",
    "Target : \n",
    "- 0 : Customer yang tidak melakukan churn\n",
    "- 1 : Customer yang melakukan churn"
   ]
  },
  {
   "attachments": {},
   "cell_type": "markdown",
   "metadata": {},
   "source": [
    "| Feature | Description |\n",
    "| --- | --- |\n",
    "| Tenure | Tenure of a customer in the company |\n",
    "| WarehouseToHome | Distance between the warehouse to the customer’s home |\n",
    "| NumberOfDeviceRegistered | Total number of devices is registered on a particular customer |\n",
    "| PreferedOrderCat | Preferred order category of a customer in the last month |\n",
    "| SatisfactionScore | Satisfactory score of a customer on service |\n",
    "| MaritalStatus | Marital status of a customer |\n",
    "| NumberOfAddress | Total number of address on a particular customer |\n",
    "| Complaint | Any complaint has been raised in the last month |\n",
    "| DaySinceLastOrder | Day since last order by customer |\n",
    "| CashbackAmount | Average cashback in last month |\n"
   ]
  },
  {
   "attachments": {},
   "cell_type": "markdown",
   "metadata": {},
   "source": [
    "---\n",
    "## **Data Understanding**"
   ]
  },
  {
   "attachments": {},
   "cell_type": "markdown",
   "metadata": {},
   "source": [
    "### Import Library"
   ]
  },
  {
   "cell_type": "code",
   "execution_count": 1,
   "metadata": {},
   "outputs": [],
   "source": [
    "# Library\n",
    "import pandas as pd\n",
    "import numpy as np\n",
    "\n",
    "# Visualization\n",
    "import matplotlib.pyplot as plt\n",
    "import seaborn as sns\n",
    "from IPython.display import display\n",
    "\n",
    "# Feature Engineering\n",
    "from sklearn.pipeline import Pipeline\n",
    "from sklearn.impute import SimpleImputer\n",
    "from sklearn.preprocessing import OneHotEncoder, RobustScaler, MinMaxScaler, StandardScaler\n",
    "from sklearn.compose import ColumnTransformer\n",
    "import category_encoders as ce\n",
    "from sklearn.preprocessing import PolynomialFeatures\n",
    "\n",
    "# Imbalance Dataset\n",
    "from imblearn.pipeline import Pipeline\n",
    "from imblearn.over_sampling import RandomOverSampler, SMOTE\n",
    "from imblearn.under_sampling import RandomUnderSampler, NearMiss\n",
    "\n",
    "# Algorithm ML\n",
    "from sklearn.linear_model import LogisticRegression\n",
    "from sklearn.tree import DecisionTreeClassifier\n",
    "from sklearn.neighbors import KNeighborsClassifier\n",
    "from sklearn.ensemble import RandomForestClassifier\n",
    "from sklearn.ensemble import AdaBoostClassifier\n",
    "from sklearn.ensemble import GradientBoostingClassifier\n",
    "from xgboost import XGBClassifier\n",
    "\n",
    "# Crossval\n",
    "from sklearn.model_selection import RandomizedSearchCV, train_test_split, cross_val_score\n",
    "from sklearn.metrics import confusion_matrix\n",
    "from sklearn.metrics import fbeta_score, make_scorer\n",
    "\n",
    "# Explainable ML\n",
    "import shap\n",
    "\n",
    "# Ignore Warning\n",
    "import sys\n",
    "import warnings\n",
    "if not sys.warnoptions:\n",
    "    warnings.simplefilter(\"ignore\")\n",
    "\n",
    "# Set max columns\n",
    "pd.set_option('display.max_columns', None)"
   ]
  },
  {
   "attachments": {},
   "cell_type": "markdown",
   "metadata": {},
   "source": [
    "### Load Dataset"
   ]
  },
  {
   "cell_type": "code",
   "execution_count": 2,
   "metadata": {},
   "outputs": [
    {
     "data": {
      "text/html": [
       "<div>\n",
       "<style scoped>\n",
       "    .dataframe tbody tr th:only-of-type {\n",
       "        vertical-align: middle;\n",
       "    }\n",
       "\n",
       "    .dataframe tbody tr th {\n",
       "        vertical-align: top;\n",
       "    }\n",
       "\n",
       "    .dataframe thead th {\n",
       "        text-align: right;\n",
       "    }\n",
       "</style>\n",
       "<table border=\"1\" class=\"dataframe\">\n",
       "  <thead>\n",
       "    <tr style=\"text-align: right;\">\n",
       "      <th></th>\n",
       "      <th>Tenure</th>\n",
       "      <th>WarehouseToHome</th>\n",
       "      <th>NumberOfDeviceRegistered</th>\n",
       "      <th>PreferedOrderCat</th>\n",
       "      <th>SatisfactionScore</th>\n",
       "      <th>MaritalStatus</th>\n",
       "      <th>NumberOfAddress</th>\n",
       "      <th>Complain</th>\n",
       "      <th>DaySinceLastOrder</th>\n",
       "      <th>CashbackAmount</th>\n",
       "      <th>Churn</th>\n",
       "    </tr>\n",
       "  </thead>\n",
       "  <tbody>\n",
       "    <tr>\n",
       "      <th>0</th>\n",
       "      <td>15.0</td>\n",
       "      <td>29.0</td>\n",
       "      <td>4</td>\n",
       "      <td>Laptop &amp; Accessory</td>\n",
       "      <td>3</td>\n",
       "      <td>Single</td>\n",
       "      <td>2</td>\n",
       "      <td>0</td>\n",
       "      <td>7.0</td>\n",
       "      <td>143.32</td>\n",
       "      <td>0</td>\n",
       "    </tr>\n",
       "    <tr>\n",
       "      <th>1</th>\n",
       "      <td>7.0</td>\n",
       "      <td>25.0</td>\n",
       "      <td>4</td>\n",
       "      <td>Mobile</td>\n",
       "      <td>1</td>\n",
       "      <td>Married</td>\n",
       "      <td>2</td>\n",
       "      <td>0</td>\n",
       "      <td>7.0</td>\n",
       "      <td>129.29</td>\n",
       "      <td>0</td>\n",
       "    </tr>\n",
       "    <tr>\n",
       "      <th>2</th>\n",
       "      <td>27.0</td>\n",
       "      <td>13.0</td>\n",
       "      <td>3</td>\n",
       "      <td>Laptop &amp; Accessory</td>\n",
       "      <td>1</td>\n",
       "      <td>Married</td>\n",
       "      <td>5</td>\n",
       "      <td>0</td>\n",
       "      <td>7.0</td>\n",
       "      <td>168.54</td>\n",
       "      <td>0</td>\n",
       "    </tr>\n",
       "    <tr>\n",
       "      <th>3</th>\n",
       "      <td>20.0</td>\n",
       "      <td>25.0</td>\n",
       "      <td>4</td>\n",
       "      <td>Fashion</td>\n",
       "      <td>3</td>\n",
       "      <td>Divorced</td>\n",
       "      <td>7</td>\n",
       "      <td>0</td>\n",
       "      <td>NaN</td>\n",
       "      <td>230.27</td>\n",
       "      <td>0</td>\n",
       "    </tr>\n",
       "    <tr>\n",
       "      <th>4</th>\n",
       "      <td>30.0</td>\n",
       "      <td>15.0</td>\n",
       "      <td>4</td>\n",
       "      <td>Others</td>\n",
       "      <td>4</td>\n",
       "      <td>Single</td>\n",
       "      <td>8</td>\n",
       "      <td>0</td>\n",
       "      <td>8.0</td>\n",
       "      <td>322.17</td>\n",
       "      <td>0</td>\n",
       "    </tr>\n",
       "  </tbody>\n",
       "</table>\n",
       "</div>"
      ],
      "text/plain": [
       "   Tenure  WarehouseToHome  NumberOfDeviceRegistered    PreferedOrderCat  \\\n",
       "0    15.0             29.0                         4  Laptop & Accessory   \n",
       "1     7.0             25.0                         4              Mobile   \n",
       "2    27.0             13.0                         3  Laptop & Accessory   \n",
       "3    20.0             25.0                         4             Fashion   \n",
       "4    30.0             15.0                         4              Others   \n",
       "\n",
       "   SatisfactionScore MaritalStatus  NumberOfAddress  Complain  \\\n",
       "0                  3        Single                2         0   \n",
       "1                  1       Married                2         0   \n",
       "2                  1       Married                5         0   \n",
       "3                  3      Divorced                7         0   \n",
       "4                  4        Single                8         0   \n",
       "\n",
       "   DaySinceLastOrder  CashbackAmount  Churn  \n",
       "0                7.0          143.32      0  \n",
       "1                7.0          129.29      0  \n",
       "2                7.0          168.54      0  \n",
       "3                NaN          230.27      0  \n",
       "4                8.0          322.17      0  "
      ]
     },
     "execution_count": 2,
     "metadata": {},
     "output_type": "execute_result"
    }
   ],
   "source": [
    "df = pd.read_csv(\"data_ecommerce_customer_churn.csv\")\n",
    "df.head()"
   ]
  },
  {
   "attachments": {},
   "cell_type": "markdown",
   "metadata": {},
   "source": [
    "### Explore Dataset"
   ]
  },
  {
   "attachments": {},
   "cell_type": "markdown",
   "metadata": {},
   "source": [
    "Mengetahui informasi jumlah data dan tipe data :"
   ]
  },
  {
   "cell_type": "code",
   "execution_count": 3,
   "metadata": {},
   "outputs": [
    {
     "name": "stdout",
     "output_type": "stream",
     "text": [
      "<class 'pandas.core.frame.DataFrame'>\n",
      "RangeIndex: 3941 entries, 0 to 3940\n",
      "Data columns (total 11 columns):\n",
      " #   Column                    Non-Null Count  Dtype  \n",
      "---  ------                    --------------  -----  \n",
      " 0   Tenure                    3747 non-null   float64\n",
      " 1   WarehouseToHome           3772 non-null   float64\n",
      " 2   NumberOfDeviceRegistered  3941 non-null   int64  \n",
      " 3   PreferedOrderCat          3941 non-null   object \n",
      " 4   SatisfactionScore         3941 non-null   int64  \n",
      " 5   MaritalStatus             3941 non-null   object \n",
      " 6   NumberOfAddress           3941 non-null   int64  \n",
      " 7   Complain                  3941 non-null   int64  \n",
      " 8   DaySinceLastOrder         3728 non-null   float64\n",
      " 9   CashbackAmount            3941 non-null   float64\n",
      " 10  Churn                     3941 non-null   int64  \n",
      "dtypes: float64(4), int64(5), object(2)\n",
      "memory usage: 338.8+ KB\n"
     ]
    }
   ],
   "source": [
    "df.info()\n",
    "\n",
    "# terdapat missing values dan jenis data numerikal (float64, int64) dan kategorikal (object)"
   ]
  },
  {
   "attachments": {},
   "cell_type": "markdown",
   "metadata": {},
   "source": [
    "Mengetahui ringkasan deskriptive statistics pada kolom numerikal dan kolom kategorikal :"
   ]
  },
  {
   "cell_type": "code",
   "execution_count": 4,
   "metadata": {},
   "outputs": [
    {
     "data": {
      "text/html": [
       "<div>\n",
       "<style scoped>\n",
       "    .dataframe tbody tr th:only-of-type {\n",
       "        vertical-align: middle;\n",
       "    }\n",
       "\n",
       "    .dataframe tbody tr th {\n",
       "        vertical-align: top;\n",
       "    }\n",
       "\n",
       "    .dataframe thead th {\n",
       "        text-align: right;\n",
       "    }\n",
       "</style>\n",
       "<table border=\"1\" class=\"dataframe\">\n",
       "  <thead>\n",
       "    <tr style=\"text-align: right;\">\n",
       "      <th></th>\n",
       "      <th>Tenure</th>\n",
       "      <th>WarehouseToHome</th>\n",
       "      <th>NumberOfDeviceRegistered</th>\n",
       "      <th>SatisfactionScore</th>\n",
       "      <th>NumberOfAddress</th>\n",
       "      <th>Complain</th>\n",
       "      <th>DaySinceLastOrder</th>\n",
       "      <th>CashbackAmount</th>\n",
       "      <th>Churn</th>\n",
       "    </tr>\n",
       "  </thead>\n",
       "  <tbody>\n",
       "    <tr>\n",
       "      <th>count</th>\n",
       "      <td>3747.000000</td>\n",
       "      <td>3772.000000</td>\n",
       "      <td>3941.000000</td>\n",
       "      <td>3941.000000</td>\n",
       "      <td>3941.000000</td>\n",
       "      <td>3941.000000</td>\n",
       "      <td>3728.000000</td>\n",
       "      <td>3941.000000</td>\n",
       "      <td>3941.000000</td>\n",
       "    </tr>\n",
       "    <tr>\n",
       "      <th>mean</th>\n",
       "      <td>10.081398</td>\n",
       "      <td>15.650583</td>\n",
       "      <td>3.679269</td>\n",
       "      <td>3.088302</td>\n",
       "      <td>4.237757</td>\n",
       "      <td>0.282416</td>\n",
       "      <td>4.531652</td>\n",
       "      <td>176.707419</td>\n",
       "      <td>0.171023</td>\n",
       "    </tr>\n",
       "    <tr>\n",
       "      <th>std</th>\n",
       "      <td>8.498864</td>\n",
       "      <td>8.452301</td>\n",
       "      <td>1.013938</td>\n",
       "      <td>1.381832</td>\n",
       "      <td>2.626699</td>\n",
       "      <td>0.450232</td>\n",
       "      <td>3.667648</td>\n",
       "      <td>48.791784</td>\n",
       "      <td>0.376576</td>\n",
       "    </tr>\n",
       "    <tr>\n",
       "      <th>min</th>\n",
       "      <td>0.000000</td>\n",
       "      <td>5.000000</td>\n",
       "      <td>1.000000</td>\n",
       "      <td>1.000000</td>\n",
       "      <td>1.000000</td>\n",
       "      <td>0.000000</td>\n",
       "      <td>0.000000</td>\n",
       "      <td>0.000000</td>\n",
       "      <td>0.000000</td>\n",
       "    </tr>\n",
       "    <tr>\n",
       "      <th>25%</th>\n",
       "      <td>2.000000</td>\n",
       "      <td>9.000000</td>\n",
       "      <td>3.000000</td>\n",
       "      <td>2.000000</td>\n",
       "      <td>2.000000</td>\n",
       "      <td>0.000000</td>\n",
       "      <td>2.000000</td>\n",
       "      <td>145.700000</td>\n",
       "      <td>0.000000</td>\n",
       "    </tr>\n",
       "    <tr>\n",
       "      <th>50%</th>\n",
       "      <td>9.000000</td>\n",
       "      <td>14.000000</td>\n",
       "      <td>4.000000</td>\n",
       "      <td>3.000000</td>\n",
       "      <td>3.000000</td>\n",
       "      <td>0.000000</td>\n",
       "      <td>3.000000</td>\n",
       "      <td>163.340000</td>\n",
       "      <td>0.000000</td>\n",
       "    </tr>\n",
       "    <tr>\n",
       "      <th>75%</th>\n",
       "      <td>16.000000</td>\n",
       "      <td>21.000000</td>\n",
       "      <td>4.000000</td>\n",
       "      <td>4.000000</td>\n",
       "      <td>6.000000</td>\n",
       "      <td>1.000000</td>\n",
       "      <td>7.000000</td>\n",
       "      <td>195.250000</td>\n",
       "      <td>0.000000</td>\n",
       "    </tr>\n",
       "    <tr>\n",
       "      <th>max</th>\n",
       "      <td>61.000000</td>\n",
       "      <td>127.000000</td>\n",
       "      <td>6.000000</td>\n",
       "      <td>5.000000</td>\n",
       "      <td>22.000000</td>\n",
       "      <td>1.000000</td>\n",
       "      <td>46.000000</td>\n",
       "      <td>324.990000</td>\n",
       "      <td>1.000000</td>\n",
       "    </tr>\n",
       "  </tbody>\n",
       "</table>\n",
       "</div>"
      ],
      "text/plain": [
       "            Tenure  WarehouseToHome  NumberOfDeviceRegistered  \\\n",
       "count  3747.000000      3772.000000               3941.000000   \n",
       "mean     10.081398        15.650583                  3.679269   \n",
       "std       8.498864         8.452301                  1.013938   \n",
       "min       0.000000         5.000000                  1.000000   \n",
       "25%       2.000000         9.000000                  3.000000   \n",
       "50%       9.000000        14.000000                  4.000000   \n",
       "75%      16.000000        21.000000                  4.000000   \n",
       "max      61.000000       127.000000                  6.000000   \n",
       "\n",
       "       SatisfactionScore  NumberOfAddress     Complain  DaySinceLastOrder  \\\n",
       "count        3941.000000      3941.000000  3941.000000        3728.000000   \n",
       "mean            3.088302         4.237757     0.282416           4.531652   \n",
       "std             1.381832         2.626699     0.450232           3.667648   \n",
       "min             1.000000         1.000000     0.000000           0.000000   \n",
       "25%             2.000000         2.000000     0.000000           2.000000   \n",
       "50%             3.000000         3.000000     0.000000           3.000000   \n",
       "75%             4.000000         6.000000     1.000000           7.000000   \n",
       "max             5.000000        22.000000     1.000000          46.000000   \n",
       "\n",
       "       CashbackAmount        Churn  \n",
       "count     3941.000000  3941.000000  \n",
       "mean       176.707419     0.171023  \n",
       "std         48.791784     0.376576  \n",
       "min          0.000000     0.000000  \n",
       "25%        145.700000     0.000000  \n",
       "50%        163.340000     0.000000  \n",
       "75%        195.250000     0.000000  \n",
       "max        324.990000     1.000000  "
      ]
     },
     "metadata": {},
     "output_type": "display_data"
    },
    {
     "data": {
      "text/html": [
       "<div>\n",
       "<style scoped>\n",
       "    .dataframe tbody tr th:only-of-type {\n",
       "        vertical-align: middle;\n",
       "    }\n",
       "\n",
       "    .dataframe tbody tr th {\n",
       "        vertical-align: top;\n",
       "    }\n",
       "\n",
       "    .dataframe thead th {\n",
       "        text-align: right;\n",
       "    }\n",
       "</style>\n",
       "<table border=\"1\" class=\"dataframe\">\n",
       "  <thead>\n",
       "    <tr style=\"text-align: right;\">\n",
       "      <th></th>\n",
       "      <th>PreferedOrderCat</th>\n",
       "      <th>MaritalStatus</th>\n",
       "    </tr>\n",
       "  </thead>\n",
       "  <tbody>\n",
       "    <tr>\n",
       "      <th>count</th>\n",
       "      <td>3941</td>\n",
       "      <td>3941</td>\n",
       "    </tr>\n",
       "    <tr>\n",
       "      <th>unique</th>\n",
       "      <td>6</td>\n",
       "      <td>3</td>\n",
       "    </tr>\n",
       "    <tr>\n",
       "      <th>top</th>\n",
       "      <td>Laptop &amp; Accessory</td>\n",
       "      <td>Married</td>\n",
       "    </tr>\n",
       "    <tr>\n",
       "      <th>freq</th>\n",
       "      <td>1458</td>\n",
       "      <td>2055</td>\n",
       "    </tr>\n",
       "  </tbody>\n",
       "</table>\n",
       "</div>"
      ],
      "text/plain": [
       "          PreferedOrderCat MaritalStatus\n",
       "count                 3941          3941\n",
       "unique                   6             3\n",
       "top     Laptop & Accessory       Married\n",
       "freq                  1458          2055"
      ]
     },
     "metadata": {},
     "output_type": "display_data"
    }
   ],
   "source": [
    "display(df.describe(), df.describe(include='object'))"
   ]
  },
  {
   "attachments": {},
   "cell_type": "markdown",
   "metadata": {},
   "source": [
    "Mengetahui missing value di tiap kolom :"
   ]
  },
  {
   "cell_type": "code",
   "execution_count": 5,
   "metadata": {},
   "outputs": [
    {
     "data": {
      "text/plain": [
       "Tenure                      194\n",
       "WarehouseToHome             169\n",
       "NumberOfDeviceRegistered      0\n",
       "PreferedOrderCat              0\n",
       "SatisfactionScore             0\n",
       "MaritalStatus                 0\n",
       "NumberOfAddress               0\n",
       "Complain                      0\n",
       "DaySinceLastOrder           213\n",
       "CashbackAmount                0\n",
       "Churn                         0\n",
       "dtype: int64"
      ]
     },
     "execution_count": 5,
     "metadata": {},
     "output_type": "execute_result"
    }
   ],
   "source": [
    "df.isna().sum()\n",
    "\n",
    "# terdapat missing values pada kolom Tenure, WarehouseToHome, DaySinceLastOrder"
   ]
  },
  {
   "attachments": {},
   "cell_type": "markdown",
   "metadata": {},
   "source": [
    "Mengetahui bentuk dataframe df :"
   ]
  },
  {
   "cell_type": "code",
   "execution_count": 6,
   "metadata": {},
   "outputs": [
    {
     "data": {
      "text/plain": [
       "(3941, 11)"
      ]
     },
     "execution_count": 6,
     "metadata": {},
     "output_type": "execute_result"
    }
   ],
   "source": [
    "df.shape\n",
    "\n",
    "# terdapat 3941 baris dan 11 kolom"
   ]
  },
  {
   "attachments": {},
   "cell_type": "markdown",
   "metadata": {},
   "source": [
    "Mengetahui persentase data duplikat :"
   ]
  },
  {
   "cell_type": "code",
   "execution_count": 7,
   "metadata": {},
   "outputs": [
    {
     "data": {
      "text/plain": [
       "17.026135498604415"
      ]
     },
     "execution_count": 7,
     "metadata": {},
     "output_type": "execute_result"
    }
   ],
   "source": [
    "df.duplicated().sum() / len(df) * 100\n",
    "\n",
    "# data duplikat hanya sebesar 17%"
   ]
  },
  {
   "attachments": {},
   "cell_type": "markdown",
   "metadata": {},
   "source": [
    "Menghapus data duplikat dan mengetahui bentuk dataframe df setelah data duplikat dihapus :"
   ]
  },
  {
   "cell_type": "code",
   "execution_count": 8,
   "metadata": {},
   "outputs": [
    {
     "data": {
      "text/plain": [
       "(3270, 11)"
      ]
     },
     "execution_count": 8,
     "metadata": {},
     "output_type": "execute_result"
    }
   ],
   "source": [
    "# Menghapus data duplikat\n",
    "df = df.drop_duplicates()\n",
    "\n",
    "# Mengetahui bentuk dataframe df setelah data duplikat dihapus\n",
    "df.shape\n",
    "\n",
    "# terdapat 3270 baris dan 11 kolom"
   ]
  },
  {
   "attachments": {},
   "cell_type": "markdown",
   "metadata": {},
   "source": [
    "Data unique di tiap kolom :"
   ]
  },
  {
   "cell_type": "code",
   "execution_count": 9,
   "metadata": {},
   "outputs": [
    {
     "data": {
      "text/html": [
       "<div>\n",
       "<style scoped>\n",
       "    .dataframe tbody tr th:only-of-type {\n",
       "        vertical-align: middle;\n",
       "    }\n",
       "\n",
       "    .dataframe tbody tr th {\n",
       "        vertical-align: top;\n",
       "    }\n",
       "\n",
       "    .dataframe thead th {\n",
       "        text-align: right;\n",
       "    }\n",
       "</style>\n",
       "<table border=\"1\" class=\"dataframe\">\n",
       "  <thead>\n",
       "    <tr style=\"text-align: right;\">\n",
       "      <th></th>\n",
       "      <th>Column Name</th>\n",
       "      <th>Number of Unique</th>\n",
       "      <th>Unique Sample</th>\n",
       "    </tr>\n",
       "  </thead>\n",
       "  <tbody>\n",
       "    <tr>\n",
       "      <th>0</th>\n",
       "      <td>Tenure</td>\n",
       "      <td>36</td>\n",
       "      <td>[15.0, 7.0, 27.0, 20.0, 30.0, 1.0, 11.0, 17.0,...</td>\n",
       "    </tr>\n",
       "    <tr>\n",
       "      <th>1</th>\n",
       "      <td>WarehouseToHome</td>\n",
       "      <td>33</td>\n",
       "      <td>[29.0, 25.0, 13.0, 15.0, 16.0, 11.0, 12.0, 7.0...</td>\n",
       "    </tr>\n",
       "    <tr>\n",
       "      <th>2</th>\n",
       "      <td>NumberOfDeviceRegistered</td>\n",
       "      <td>6</td>\n",
       "      <td>[4, 3, 6, 2, 5, 1]</td>\n",
       "    </tr>\n",
       "    <tr>\n",
       "      <th>3</th>\n",
       "      <td>PreferedOrderCat</td>\n",
       "      <td>6</td>\n",
       "      <td>[Laptop &amp; Accessory, Mobile, Fashion, Others, ...</td>\n",
       "    </tr>\n",
       "    <tr>\n",
       "      <th>4</th>\n",
       "      <td>SatisfactionScore</td>\n",
       "      <td>5</td>\n",
       "      <td>[3, 1, 4, 2, 5]</td>\n",
       "    </tr>\n",
       "    <tr>\n",
       "      <th>5</th>\n",
       "      <td>MaritalStatus</td>\n",
       "      <td>3</td>\n",
       "      <td>[Single, Married, Divorced]</td>\n",
       "    </tr>\n",
       "    <tr>\n",
       "      <th>6</th>\n",
       "      <td>NumberOfAddress</td>\n",
       "      <td>14</td>\n",
       "      <td>[2, 5, 7, 8, 3, 1, 9, 4, 10, 11, 6, 19, 22, 21]</td>\n",
       "    </tr>\n",
       "    <tr>\n",
       "      <th>7</th>\n",
       "      <td>Complain</td>\n",
       "      <td>2</td>\n",
       "      <td>[0, 1]</td>\n",
       "    </tr>\n",
       "    <tr>\n",
       "      <th>8</th>\n",
       "      <td>DaySinceLastOrder</td>\n",
       "      <td>22</td>\n",
       "      <td>[7.0, nan, 8.0, 11.0, 2.0, 1.0, 4.0, 3.0, 6.0,...</td>\n",
       "    </tr>\n",
       "    <tr>\n",
       "      <th>9</th>\n",
       "      <td>CashbackAmount</td>\n",
       "      <td>2335</td>\n",
       "      <td>[143.32, 129.29, 168.54, 230.27, 322.17, 152.8...</td>\n",
       "    </tr>\n",
       "    <tr>\n",
       "      <th>10</th>\n",
       "      <td>Churn</td>\n",
       "      <td>2</td>\n",
       "      <td>[0, 1]</td>\n",
       "    </tr>\n",
       "  </tbody>\n",
       "</table>\n",
       "</div>"
      ],
      "text/plain": [
       "                 Column Name  Number of Unique  \\\n",
       "0                     Tenure                36   \n",
       "1            WarehouseToHome                33   \n",
       "2   NumberOfDeviceRegistered                 6   \n",
       "3           PreferedOrderCat                 6   \n",
       "4          SatisfactionScore                 5   \n",
       "5              MaritalStatus                 3   \n",
       "6            NumberOfAddress                14   \n",
       "7                   Complain                 2   \n",
       "8          DaySinceLastOrder                22   \n",
       "9             CashbackAmount              2335   \n",
       "10                     Churn                 2   \n",
       "\n",
       "                                        Unique Sample  \n",
       "0   [15.0, 7.0, 27.0, 20.0, 30.0, 1.0, 11.0, 17.0,...  \n",
       "1   [29.0, 25.0, 13.0, 15.0, 16.0, 11.0, 12.0, 7.0...  \n",
       "2                                  [4, 3, 6, 2, 5, 1]  \n",
       "3   [Laptop & Accessory, Mobile, Fashion, Others, ...  \n",
       "4                                     [3, 1, 4, 2, 5]  \n",
       "5                         [Single, Married, Divorced]  \n",
       "6     [2, 5, 7, 8, 3, 1, 9, 4, 10, 11, 6, 19, 22, 21]  \n",
       "7                                              [0, 1]  \n",
       "8   [7.0, nan, 8.0, 11.0, 2.0, 1.0, 4.0, 3.0, 6.0,...  \n",
       "9   [143.32, 129.29, 168.54, 230.27, 322.17, 152.8...  \n",
       "10                                             [0, 1]  "
      ]
     },
     "execution_count": 9,
     "metadata": {},
     "output_type": "execute_result"
    }
   ],
   "source": [
    "listItem = []\n",
    "for col in df.columns :\n",
    "    listItem.append( [col, df[col].nunique(), df[col].unique()])\n",
    "\n",
    "tabel1Desc = pd.DataFrame(columns=['Column Name', 'Number of Unique', 'Unique Sample'],\n",
    "                     data=listItem)\n",
    "tabel1Desc"
   ]
  },
  {
   "attachments": {},
   "cell_type": "markdown",
   "metadata": {},
   "source": [
    "Mengetahui kolom kategorikal :"
   ]
  },
  {
   "cell_type": "code",
   "execution_count": 10,
   "metadata": {},
   "outputs": [
    {
     "data": {
      "text/plain": [
       "['PreferedOrderCat', 'MaritalStatus']"
      ]
     },
     "execution_count": 10,
     "metadata": {},
     "output_type": "execute_result"
    }
   ],
   "source": [
    "cat_features = [feature for feature in df.columns if (df[feature].dtypes == 'O')]\n",
    "cat_features\n",
    "\n",
    "# terdapat 2 kolom kategorikal"
   ]
  },
  {
   "attachments": {},
   "cell_type": "markdown",
   "metadata": {},
   "source": [
    "Mengetahui kolom numerikal :"
   ]
  },
  {
   "cell_type": "code",
   "execution_count": 11,
   "metadata": {},
   "outputs": [
    {
     "data": {
      "text/plain": [
       "['Tenure',\n",
       " 'WarehouseToHome',\n",
       " 'NumberOfDeviceRegistered',\n",
       " 'SatisfactionScore',\n",
       " 'NumberOfAddress',\n",
       " 'Complain',\n",
       " 'DaySinceLastOrder',\n",
       " 'CashbackAmount']"
      ]
     },
     "execution_count": 11,
     "metadata": {},
     "output_type": "execute_result"
    }
   ],
   "source": [
    "num_features = [feature for feature in df.columns if ((df[feature].dtypes != 'O') & (feature not in ['Churn']))]\n",
    "num_features\n",
    "\n",
    "# terdapat 8 kolom kategorikal"
   ]
  },
  {
   "attachments": {},
   "cell_type": "markdown",
   "metadata": {},
   "source": [
    "Mengetahui jumlah kategori dan unique value dari kolom kategorikal :"
   ]
  },
  {
   "cell_type": "code",
   "execution_count": 12,
   "metadata": {},
   "outputs": [
    {
     "name": "stdout",
     "output_type": "stream",
     "text": [
      "Total unique values in PreferedOrderCat:  6\n",
      "Unique values:  ['Laptop & Accessory' 'Mobile' 'Fashion' 'Others' 'Mobile Phone' 'Grocery']\n",
      "\n",
      "Total unique values in MaritalStatus:  3\n",
      "Unique values:  ['Single' 'Married' 'Divorced']\n",
      "\n"
     ]
    }
   ],
   "source": [
    "for i in cat_features:\n",
    "    print(f'Total unique values in {i}: ', df[i].nunique())\n",
    "    print(f'Unique values: ', df[i].unique())\n",
    "    print()"
   ]
  },
  {
   "attachments": {},
   "cell_type": "markdown",
   "metadata": {},
   "source": [
    "Mengubah kategori Mobile menjadi Mobile Phone pada kolom PreferedOrderCat :"
   ]
  },
  {
   "cell_type": "code",
   "execution_count": 13,
   "metadata": {},
   "outputs": [],
   "source": [
    "df['PreferedOrderCat'] = df['PreferedOrderCat'].replace({'Mobile':'Mobile Phone'})"
   ]
  },
  {
   "attachments": {},
   "cell_type": "markdown",
   "metadata": {},
   "source": [
    "Kategori Mobile sudah tidak ada, kolom PreferedOrderCat dari 6 kategori menjadi 5 kategori :"
   ]
  },
  {
   "cell_type": "code",
   "execution_count": 14,
   "metadata": {},
   "outputs": [
    {
     "data": {
      "text/plain": [
       "Laptop & Accessory    1213\n",
       "Mobile Phone          1183\n",
       "Fashion                484\n",
       "Grocery                241\n",
       "Others                 149\n",
       "Name: PreferedOrderCat, dtype: int64"
      ]
     },
     "execution_count": 14,
     "metadata": {},
     "output_type": "execute_result"
    }
   ],
   "source": [
    "df['PreferedOrderCat'].value_counts()"
   ]
  },
  {
   "attachments": {},
   "cell_type": "markdown",
   "metadata": {},
   "source": [
    "Mengetahui outlier pada kolom numerikal menggunakan boxplot :"
   ]
  },
  {
   "cell_type": "code",
   "execution_count": 15,
   "metadata": {},
   "outputs": [
    {
     "data": {
      "image/png": "[encoded data removed]",
      "text/plain": [
       "<Figure size 1600x1000 with 8 Axes>"
      ]
     },
     "metadata": {},
     "output_type": "display_data"
    }
   ],
   "source": [
    "col_names = num_features\n",
    "plotnumber = 1\n",
    "plt.figure(figsize=(16,10))\n",
    "\n",
    "for kolom in col_names:\n",
    "    plt.subplot(3,3, plotnumber)\n",
    "    sns.boxplot(data=df, x=kolom, color='purple')\n",
    "    plt.title(kolom)\n",
    "    plt.tight_layout()\n",
    "\n",
    "    plotnumber += 1"
   ]
  },
  {
   "attachments": {},
   "cell_type": "markdown",
   "metadata": {},
   "source": [
    "Berdasarkan boxplot di atas, diketahui bahwa dataset memiliki data yang outliers, namun oleh karena data dianggap masih wajar atau bukan data error, maka data tersebut tidak dihapus, dan masih bisa digunakan. Disamping itu juga, data-data ouliers tersebut dapat membantu model agar dapat belajar dari data yang bervariasi."
   ]
  },
  {
   "attachments": {},
   "cell_type": "markdown",
   "metadata": {},
   "source": [
    "Mengetahui hubungan antar categorical features:"
   ]
  },
  {
   "cell_type": "code",
   "execution_count": 16,
   "metadata": {},
   "outputs": [
    {
     "data": {
      "text/html": [
       "<div>\n",
       "<style scoped>\n",
       "    .dataframe tbody tr th:only-of-type {\n",
       "        vertical-align: middle;\n",
       "    }\n",
       "\n",
       "    .dataframe tbody tr th {\n",
       "        vertical-align: top;\n",
       "    }\n",
       "\n",
       "    .dataframe thead th {\n",
       "        text-align: right;\n",
       "    }\n",
       "</style>\n",
       "<table border=\"1\" class=\"dataframe\">\n",
       "  <thead>\n",
       "    <tr style=\"text-align: right;\">\n",
       "      <th></th>\n",
       "      <th>Tenure</th>\n",
       "      <th>WarehouseToHome</th>\n",
       "      <th>NumberOfDeviceRegistered</th>\n",
       "      <th>SatisfactionScore</th>\n",
       "      <th>NumberOfAddress</th>\n",
       "      <th>Complain</th>\n",
       "      <th>DaySinceLastOrder</th>\n",
       "      <th>CashbackAmount</th>\n",
       "      <th>Churn</th>\n",
       "    </tr>\n",
       "  </thead>\n",
       "  <tbody>\n",
       "    <tr>\n",
       "      <th>Tenure</th>\n",
       "      <td>1.000000</td>\n",
       "      <td>-0.028010</td>\n",
       "      <td>-0.041742</td>\n",
       "      <td>-0.029982</td>\n",
       "      <td>0.227957</td>\n",
       "      <td>-0.020666</td>\n",
       "      <td>0.170329</td>\n",
       "      <td>0.464551</td>\n",
       "      <td>-0.348654</td>\n",
       "    </tr>\n",
       "    <tr>\n",
       "      <th>WarehouseToHome</th>\n",
       "      <td>-0.028010</td>\n",
       "      <td>1.000000</td>\n",
       "      <td>0.015884</td>\n",
       "      <td>0.007628</td>\n",
       "      <td>-0.010757</td>\n",
       "      <td>0.046227</td>\n",
       "      <td>0.018332</td>\n",
       "      <td>-0.006126</td>\n",
       "      <td>0.074237</td>\n",
       "    </tr>\n",
       "    <tr>\n",
       "      <th>NumberOfDeviceRegistered</th>\n",
       "      <td>-0.041742</td>\n",
       "      <td>0.015884</td>\n",
       "      <td>1.000000</td>\n",
       "      <td>-0.010991</td>\n",
       "      <td>0.076437</td>\n",
       "      <td>0.005338</td>\n",
       "      <td>0.010831</td>\n",
       "      <td>0.120136</td>\n",
       "      <td>0.109612</td>\n",
       "    </tr>\n",
       "    <tr>\n",
       "      <th>SatisfactionScore</th>\n",
       "      <td>-0.029982</td>\n",
       "      <td>0.007628</td>\n",
       "      <td>-0.010991</td>\n",
       "      <td>1.000000</td>\n",
       "      <td>0.042449</td>\n",
       "      <td>-0.035167</td>\n",
       "      <td>0.039855</td>\n",
       "      <td>0.006499</td>\n",
       "      <td>0.098393</td>\n",
       "    </tr>\n",
       "    <tr>\n",
       "      <th>NumberOfAddress</th>\n",
       "      <td>0.227957</td>\n",
       "      <td>-0.010757</td>\n",
       "      <td>0.076437</td>\n",
       "      <td>0.042449</td>\n",
       "      <td>1.000000</td>\n",
       "      <td>-0.011490</td>\n",
       "      <td>-0.062229</td>\n",
       "      <td>0.186623</td>\n",
       "      <td>0.046354</td>\n",
       "    </tr>\n",
       "    <tr>\n",
       "      <th>Complain</th>\n",
       "      <td>-0.020666</td>\n",
       "      <td>0.046227</td>\n",
       "      <td>0.005338</td>\n",
       "      <td>-0.035167</td>\n",
       "      <td>-0.011490</td>\n",
       "      <td>1.000000</td>\n",
       "      <td>-0.052269</td>\n",
       "      <td>-0.002040</td>\n",
       "      <td>0.262278</td>\n",
       "    </tr>\n",
       "    <tr>\n",
       "      <th>DaySinceLastOrder</th>\n",
       "      <td>0.170329</td>\n",
       "      <td>0.018332</td>\n",
       "      <td>0.010831</td>\n",
       "      <td>0.039855</td>\n",
       "      <td>-0.062229</td>\n",
       "      <td>-0.052269</td>\n",
       "      <td>1.000000</td>\n",
       "      <td>0.340341</td>\n",
       "      <td>-0.147918</td>\n",
       "    </tr>\n",
       "    <tr>\n",
       "      <th>CashbackAmount</th>\n",
       "      <td>0.464551</td>\n",
       "      <td>-0.006126</td>\n",
       "      <td>0.120136</td>\n",
       "      <td>0.006499</td>\n",
       "      <td>0.186623</td>\n",
       "      <td>-0.002040</td>\n",
       "      <td>0.340341</td>\n",
       "      <td>1.000000</td>\n",
       "      <td>-0.151475</td>\n",
       "    </tr>\n",
       "  </tbody>\n",
       "</table>\n",
       "</div>"
      ],
      "text/plain": [
       "                            Tenure  WarehouseToHome  NumberOfDeviceRegistered  \\\n",
       "Tenure                    1.000000        -0.028010                 -0.041742   \n",
       "WarehouseToHome          -0.028010         1.000000                  0.015884   \n",
       "NumberOfDeviceRegistered -0.041742         0.015884                  1.000000   \n",
       "SatisfactionScore        -0.029982         0.007628                 -0.010991   \n",
       "NumberOfAddress           0.227957        -0.010757                  0.076437   \n",
       "Complain                 -0.020666         0.046227                  0.005338   \n",
       "DaySinceLastOrder         0.170329         0.018332                  0.010831   \n",
       "CashbackAmount            0.464551        -0.006126                  0.120136   \n",
       "\n",
       "                          SatisfactionScore  NumberOfAddress  Complain  \\\n",
       "Tenure                            -0.029982         0.227957 -0.020666   \n",
       "WarehouseToHome                    0.007628        -0.010757  0.046227   \n",
       "NumberOfDeviceRegistered          -0.010991         0.076437  0.005338   \n",
       "SatisfactionScore                  1.000000         0.042449 -0.035167   \n",
       "NumberOfAddress                    0.042449         1.000000 -0.011490   \n",
       "Complain                          -0.035167        -0.011490  1.000000   \n",
       "DaySinceLastOrder                  0.039855        -0.062229 -0.052269   \n",
       "CashbackAmount                     0.006499         0.186623 -0.002040   \n",
       "\n",
       "                          DaySinceLastOrder  CashbackAmount     Churn  \n",
       "Tenure                             0.170329        0.464551 -0.348654  \n",
       "WarehouseToHome                    0.018332       -0.006126  0.074237  \n",
       "NumberOfDeviceRegistered           0.010831        0.120136  0.109612  \n",
       "SatisfactionScore                  0.039855        0.006499  0.098393  \n",
       "NumberOfAddress                   -0.062229        0.186623  0.046354  \n",
       "Complain                          -0.052269       -0.002040  0.262278  \n",
       "DaySinceLastOrder                  1.000000        0.340341 -0.147918  \n",
       "CashbackAmount                     0.340341        1.000000 -0.151475  "
      ]
     },
     "execution_count": 16,
     "metadata": {},
     "output_type": "execute_result"
    }
   ],
   "source": [
    "df.corr()[0:8]\n",
    "\n",
    "# antar feature tidak ada yang memiliki hubungan yang kuat \n",
    "# seluruh feature memiliki nilai correlation < 0.5"
   ]
  },
  {
   "attachments": {},
   "cell_type": "markdown",
   "metadata": {},
   "source": [
    "Melihat distribusi data untuk mengetahui apakah data berdistribusi normal atau tidak :"
   ]
  },
  {
   "cell_type": "code",
   "execution_count": 17,
   "metadata": {},
   "outputs": [
    {
     "data": {
      "text/plain": [
       "Text(0.5, 0.98, 'Frequency Distribution of Tenure, Warehouse to Home, Day Since Last Order')"
      ]
     },
     "execution_count": 17,
     "metadata": {},
     "output_type": "execute_result"
    },
    {
     "data": {
      "image/png": "[encoded data removed]",
      "text/plain": [
       "<Figure size 2000x500 with 3 Axes>"
      ]
     },
     "metadata": {},
     "output_type": "display_data"
    }
   ],
   "source": [
    "plt.figure(figsize=(20,5))\n",
    "\n",
    "plt.subplot(1,3,1)\n",
    "sns.histplot(data=df, x='Tenure', color='purple')\n",
    "\n",
    "plt.subplot(1,3,2)\n",
    "sns.histplot(data=df, x='WarehouseToHome', color='purple')\n",
    "\n",
    "plt.subplot(1,3,3)\n",
    "sns.histplot(data=df, x='DaySinceLastOrder', color='purple')\n",
    "\n",
    "plt.suptitle('Frequency Distribution of Tenure, Warehouse to Home, Day Since Last Order', size= 15)\n",
    "\n",
    "# Tenure, WarehouseToHome, DaySinceLastOrder tidak berdistribusi normal"
   ]
  },
  {
   "attachments": {},
   "cell_type": "markdown",
   "metadata": {},
   "source": [
    "Mengetahui proporsi target (Churn) :"
   ]
  },
  {
   "cell_type": "code",
   "execution_count": 18,
   "metadata": {},
   "outputs": [
    {
     "name": "stdout",
     "output_type": "stream",
     "text": [
      "0    2736\n",
      "1     534\n",
      "Name: Churn, dtype: int64\n",
      "\n",
      "0    83.669725\n",
      "1    16.330275\n",
      "Name: Churn, dtype: float64\n"
     ]
    }
   ],
   "source": [
    "print(df['Churn'].value_counts())\n",
    "print()\n",
    "\n",
    "# persentase\n",
    "print(df['Churn'].value_counts()/len(df['Churn'])*100)"
   ]
  },
  {
   "attachments": {},
   "cell_type": "markdown",
   "metadata": {},
   "source": [
    "Berdasarkan sumber : https://developers.google.com/machine-learning/data-prep/construct/sampling-splitting/imbalanced-data diketahui bahwa target pada dataset ini memiliki proportion of minority class sebesar 16.3% sehingga tergolong **Moderate Imbalance**\n"
   ]
  },
  {
   "attachments": {},
   "cell_type": "markdown",
   "metadata": {},
   "source": [
    "---\n",
    "## **Data Splitting**"
   ]
  },
  {
   "attachments": {},
   "cell_type": "markdown",
   "metadata": {},
   "source": [
    "Data splitting adalah salah satu teknik yang penting dalam machine learning untuk meningkatkan kinerja model dan mencegah overfitting, dengan membagi dataset menjadi dua atau lebih bagian untuk tujuan tertentu, seperti pelatihan model, validasi model, dan pengujian model. \n",
    "\n",
    "Fungsi dari data splitting adalah untuk mengevaluasi kinerja model dengan menggunakan data yang tidak digunakan dalam pelatihan model, memilih parameter terbaik model dan memvalidasi model yang telah dilatih. \n",
    "\n",
    "Dataset dibagi menjadi tiga bagian yaitu dataset pelatihan, dataset validasi, dan dataset pengujian. Dataset pelatihan digunakan untuk melatih model, dataset validasi digunakan untuk memilih parameter terbaik untuk model, dan dataset pengujian digunakan untuk menguji kinerja model secara akhir. Hal ini membantu menghindari overfitting, di mana model terlalu kompleks dan tidak mampu menggeneralisasi dengan baik pada data yang belum pernah dilihat sebelumnya."
   ]
  },
  {
   "attachments": {},
   "cell_type": "markdown",
   "metadata": {},
   "source": [
    "Define X (features) dan y (target) :"
   ]
  },
  {
   "cell_type": "code",
   "execution_count": 19,
   "metadata": {},
   "outputs": [],
   "source": [
    "# features\n",
    "X = df.drop(columns=['Churn'])\n",
    "\n",
    "# target\n",
    "y = df['Churn']"
   ]
  },
  {
   "attachments": {},
   "cell_type": "markdown",
   "metadata": {},
   "source": [
    "Data Splitting :"
   ]
  },
  {
   "cell_type": "code",
   "execution_count": 20,
   "metadata": {},
   "outputs": [],
   "source": [
    "X_train, X_test, y_train, y_test = train_test_split(X, y, test_size=0.2, random_state=0, stratify=y)\n",
    "\n",
    "# data train = 80%\n",
    "# data test = 20%"
   ]
  },
  {
   "attachments": {},
   "cell_type": "markdown",
   "metadata": {},
   "source": [
    "---\n",
    "## **Preprocessing**"
   ]
  },
  {
   "attachments": {},
   "cell_type": "markdown",
   "metadata": {},
   "source": [
    "Langkah-langkah dalam proses preprocessing yaitu dengan **impute missing values** (mengisi data yang kosong), **scaling** (melakukan transformasi terhadap data numerik agar antar variabel memiliki skala yang sama), **encoding** (mengubah data kategorikal menjadi data numerikal), dan **polynomial features** yaitu:\n",
    "\n",
    "**Impute Missing Values**\n",
    "\n",
    "Menggunakan Simple Imputer dengan nilai Median: *'Tenure', 'WarehouseToHome', 'DaySinceLastOrder'*\n",
    "\n",
    "Pada tahap explore data di atas, diketahui bahwa pada feature 'Tenure', 'WarehouseToHome' dan 'DaySinceLastOrder' terdapat missing values dan datanya tidak berdistribusi normal, sehingga imputasi dilakukan menggunakan nilai Median. Kolom tersebut juga tergolong numerical features yang tidak memiliki hubungan antar features lainnya, terbukti dari nilai corr < 0.5, sehingga imputasi dilakukan menggunakan metode Simple Imputer, dan tidak memanfaatkan feature lainnya untuk memprediksi missing values.\n",
    "\n",
    "**Scaling**\n",
    "\n",
    "Menggunakan Robust Scaler: *'Tenure', 'WarehouseToHome', 'NumberOfDeviceRegistered', 'SatisfactionScore', 'NumberOfAddress', 'DaySinceLastOrder', 'CashbackAmount'*\n",
    "\n",
    "Numerical features di atas memiliki data outliers sehingga dapat menggunakan Robust Scaler yang bisa menghandle data outliers. Feature 'Complain' memiliki data 0 dan 1, sehingga tidak perlu dilakukan scaling lagi. \n",
    "\n",
    "**Encoding**\n",
    "\n",
    "Menggunakan One Hot Encoder: *'PreferedOrderCat', 'MaritalStatus'*\n",
    "\n",
    "Pada tahap explore data di atas, diketahui bahwa data pada feature 'PreferedOrderCat' dan 'MaritalStatus' merupakan data kategorikal, sehingga perlu dilakukan encoding untuk mengubah data menjadi numerikal. Encoding dilakukan menggunakan metode One Hot Encoder karena categorical features tersebut tidak memiliki tingkatan/urutan/tidak ordinal dan memiliki unique data yang sedikit. Feature 'PreferedOrderCat' memiliki 5 unique data, dan feature 'MaritalStatus' memiliki 3 unique data.\n",
    "\n",
    "**Polynomial**\n",
    "\n",
    "Melakukan polynomial dengan mengubah features menjadi polinomial yang lebih tinggi, sehingga diharapkan dapat meningkatkan kinerja model."
   ]
  },
  {
   "cell_type": "code",
   "execution_count": 21,
   "metadata": {},
   "outputs": [],
   "source": [
    "pipe_impute_robust = Pipeline([\n",
    "    ('median', SimpleImputer(strategy='median')),\n",
    "    ('poly', PolynomialFeatures(degree=2)),\n",
    "    ('scaler', RobustScaler())\n",
    "])"
   ]
  },
  {
   "cell_type": "code",
   "execution_count": 22,
   "metadata": {},
   "outputs": [
    {
     "data": {
      "text/plain": [
       "ColumnTransformer(remainder='passthrough',\n",
       "                  transformers=[('pipe_impute_robust',\n",
       "                                 Pipeline(steps=[('median',\n",
       "                                                  SimpleImputer(strategy='median')),\n",
       "                                                 ('poly', PolynomialFeatures()),\n",
       "                                                 ('scaler', RobustScaler())]),\n",
       "                                 ['Tenure', 'WarehouseToHome',\n",
       "                                  'NumberOfDeviceRegistered',\n",
       "                                  'SatisfactionScore', 'NumberOfAddress',\n",
       "                                  'DaySinceLastOrder', 'CashbackAmount']),\n",
       "                                ('onehot', OneHotEncoder(drop='first'),\n",
       "                                 ['PreferedOrderCat', 'MaritalStatus'])])"
      ]
     },
     "execution_count": 22,
     "metadata": {},
     "output_type": "execute_result"
    }
   ],
   "source": [
    "transformer = ColumnTransformer([\n",
    "    ('pipe_impute_robust', pipe_impute_robust, ['Tenure', 'WarehouseToHome', 'NumberOfDeviceRegistered', 'SatisfactionScore', 'NumberOfAddress', 'DaySinceLastOrder', 'CashbackAmount']),\n",
    "    ('onehot', OneHotEncoder(drop='first'), ['PreferedOrderCat', 'MaritalStatus'])\n",
    "], remainder='passthrough')\n",
    "\n",
    "transformer"
   ]
  },
  {
   "attachments": {},
   "cell_type": "markdown",
   "metadata": {},
   "source": [
    "---\n",
    "## **Benchmark Model**"
   ]
  },
  {
   "cell_type": "code",
   "execution_count": 23,
   "metadata": {},
   "outputs": [],
   "source": [
    "# algoritma ML\n",
    "logreg = LogisticRegression(random_state=0, class_weight='balanced')\n",
    "knn = KNeighborsClassifier()\n",
    "tree = DecisionTreeClassifier(random_state=0, class_weight='balanced') \n",
    "rf = RandomForestClassifier(random_state=0, class_weight='balanced') \n",
    "ada = AdaBoostClassifier(tree, random_state=0)\n",
    "gbc = GradientBoostingClassifier(random_state=0)\n",
    "xgbc = XGBClassifier(random_state=0, verbosity=0, class_weight='balanced')"
   ]
  },
  {
   "cell_type": "code",
   "execution_count": 24,
   "metadata": {},
   "outputs": [],
   "source": [
    "# resampler\n",
    "smote = SMOTE(random_state=0)\n",
    "nearmiss = NearMiss()\n",
    "rus = RandomUnderSampler(random_state=0)\n",
    "ros = RandomOverSampler(random_state=0)"
   ]
  },
  {
   "cell_type": "code",
   "execution_count": 25,
   "metadata": {},
   "outputs": [],
   "source": [
    "models = [logreg, knn, tree, rf, ada, gbc, xgbc]\n",
    "score = []\n",
    "list_mean = []\n",
    "list_std = []\n",
    "\n",
    "# evaluation matrics f2 score\n",
    "f2_score = make_scorer(fbeta_score, beta=2)\n",
    "\n",
    "# mencari algoritma terbaik dengan melihat nilai mean dan standar deviasi dari f2 score\n",
    "for i in models:\n",
    "\n",
    "    pipe_model = Pipeline([\n",
    "        ('transformer', transformer),\n",
    "        ('resampler', smote),\n",
    "        ('model', i)\n",
    "    ])\n",
    "\n",
    "    model_cv = cross_val_score(\n",
    "        estimator = pipe_model, \n",
    "        X= X_train, \n",
    "        y= y_train, \n",
    "        cv=5, \n",
    "        scoring= f2_score, \n",
    "        error_score='raise'\n",
    "        )\n",
    "\n",
    "    score.append(model_cv)\n",
    "    list_mean.append(model_cv.mean())\n",
    "    list_std.append(model_cv.std())"
   ]
  },
  {
   "cell_type": "code",
   "execution_count": 26,
   "metadata": {},
   "outputs": [
    {
     "data": {
      "text/html": [
       "<div>\n",
       "<style scoped>\n",
       "    .dataframe tbody tr th:only-of-type {\n",
       "        vertical-align: middle;\n",
       "    }\n",
       "\n",
       "    .dataframe tbody tr th {\n",
       "        vertical-align: top;\n",
       "    }\n",
       "\n",
       "    .dataframe thead th {\n",
       "        text-align: right;\n",
       "    }\n",
       "</style>\n",
       "<table border=\"1\" class=\"dataframe\">\n",
       "  <thead>\n",
       "    <tr style=\"text-align: right;\">\n",
       "      <th></th>\n",
       "      <th>model</th>\n",
       "      <th>mean</th>\n",
       "      <th>std</th>\n",
       "    </tr>\n",
       "  </thead>\n",
       "  <tbody>\n",
       "    <tr>\n",
       "      <th>6</th>\n",
       "      <td>xgbc</td>\n",
       "      <td>0.702951</td>\n",
       "      <td>0.049426</td>\n",
       "    </tr>\n",
       "    <tr>\n",
       "      <th>3</th>\n",
       "      <td>rf</td>\n",
       "      <td>0.700508</td>\n",
       "      <td>0.050153</td>\n",
       "    </tr>\n",
       "    <tr>\n",
       "      <th>1</th>\n",
       "      <td>knn</td>\n",
       "      <td>0.686803</td>\n",
       "      <td>0.027228</td>\n",
       "    </tr>\n",
       "    <tr>\n",
       "      <th>0</th>\n",
       "      <td>logreg</td>\n",
       "      <td>0.679519</td>\n",
       "      <td>0.034009</td>\n",
       "    </tr>\n",
       "    <tr>\n",
       "      <th>5</th>\n",
       "      <td>gbc</td>\n",
       "      <td>0.655757</td>\n",
       "      <td>0.021264</td>\n",
       "    </tr>\n",
       "    <tr>\n",
       "      <th>2</th>\n",
       "      <td>tree</td>\n",
       "      <td>0.648167</td>\n",
       "      <td>0.037082</td>\n",
       "    </tr>\n",
       "    <tr>\n",
       "      <th>4</th>\n",
       "      <td>ada</td>\n",
       "      <td>0.635699</td>\n",
       "      <td>0.061845</td>\n",
       "    </tr>\n",
       "  </tbody>\n",
       "</table>\n",
       "</div>"
      ],
      "text/plain": [
       "    model      mean       std\n",
       "6    xgbc  0.702951  0.049426\n",
       "3      rf  0.700508  0.050153\n",
       "1     knn  0.686803  0.027228\n",
       "0  logreg  0.679519  0.034009\n",
       "5     gbc  0.655757  0.021264\n",
       "2    tree  0.648167  0.037082\n",
       "4     ada  0.635699  0.061845"
      ]
     },
     "execution_count": 26,
     "metadata": {},
     "output_type": "execute_result"
    }
   ],
   "source": [
    "# membuat data frame mean dan std dari setiap algoritma yang dilooping\n",
    "df_cv = pd.DataFrame({\n",
    "    'model':['logreg', 'knn', 'tree', 'rf',' ada', 'gbc', 'xgbc'],\n",
    "    'mean':list_mean,\n",
    "    'std':list_std\n",
    "})\n",
    "\n",
    "# mengurutkan berdasarkan nilai mean yang paling tinggi\n",
    "df_cv.sort_values(by='mean', ascending=False)"
   ]
  },
  {
   "attachments": {},
   "cell_type": "markdown",
   "metadata": {},
   "source": [
    "Berdasarkan DataFrame df_cv diatas, diketahui bahwa dari enam algoritma yang dilooping, algoritma `XGBoost Classifier` dan `Random Forest` adalah algoritma terbaik, terlihat dari mean dan juga cukup stabil. Oleh karena itu, dua algoritma tersebut kemudian akan dituning agar mendapatkan parameter terbaiknya menggunakan metrics f2 score."
   ]
  },
  {
   "attachments": {},
   "cell_type": "markdown",
   "metadata": {},
   "source": [
    "---\n",
    "## **Hyperparameter Tuning**"
   ]
  },
  {
   "attachments": {},
   "cell_type": "markdown",
   "metadata": {},
   "source": [
    "Hyperparameter tuning dilakukan untuk meningkatkan performa model dengan mencari konfigurasi hyperparameter yang optimal.\n",
    "\n",
    "Fungsi dari hyperparameter tuning adalah:\n",
    "\n",
    "- Meningkatkan performa model: Dengan menentukan hyperparameter yang optimal, model dapat menjadi lebih akurat dan efisien.\n",
    "\n",
    "- Menghindari overfitting dan underfitting: Dengan menentukan hyperparameter yang tepat, model dapat menghindari overfitting (terlalu cocok dengan data latih) atau underfitting (tidak cocok dengan data latih).\n",
    "\n",
    "- Meningkatkan generalisasi: Dengan menentukan hyperparameter yang optimal, model dapat meningkatkan kemampuan untuk memprediksi data yang tidak terlihat (data uji atau data baru).\n",
    "\n",
    "- Menghemat waktu dan biaya: Dengan menentukan hyperparameter yang optimal, waktu dan biaya yang diperlukan untuk melatih model dapat dikurangi."
   ]
  },
  {
   "attachments": {},
   "cell_type": "markdown",
   "metadata": {},
   "source": [
    "Hyperparameter tuning yang akan dilakukan menggunakan `Random Search` dengan cara memilih hyperparameter secara acak dari rentang nilai yang ditentukan, untuk mencari set hyperparameter terbaik untuk model yang digunakan."
   ]
  },
  {
   "attachments": {},
   "cell_type": "markdown",
   "metadata": {},
   "source": [
    "### XGBoost Classifier"
   ]
  },
  {
   "attachments": {},
   "cell_type": "markdown",
   "metadata": {},
   "source": [
    "Tuning Pertama"
   ]
  },
  {
   "cell_type": "code",
   "execution_count": 27,
   "metadata": {},
   "outputs": [],
   "source": [
    "# Hyperparam space XGboost\n",
    "hyperparam_space_xgbc = {\n",
    "    'balancing':[smote, rus, ros, nearmiss, None],\n",
    "    'model__max_depth': list(np.arange(1,100,2)), \n",
    "    'model__learning_rate': list(np.arange(0.01, 1.0, 0.01)),\n",
    "    'model__n_estimators': list(np.arange(50,100,2)),\n",
    "    'model__subsample': list(np.arange(0.1, 1.0, 0.1)),\n",
    "    'model__colsample_bytree': list(np.arange(0.1, 1.0, 0.1)),\n",
    "    'transformer__pipe_impute_robust__scaler': [MinMaxScaler(), StandardScaler(), RobustScaler()],\n",
    "    'transformer__pipe_impute_robust__poly__degree': [1,2,3]\n",
    "}"
   ]
  },
  {
   "cell_type": "code",
   "execution_count": 28,
   "metadata": {},
   "outputs": [],
   "source": [
    "# Benchmark model 1\n",
    "xgbc = XGBClassifier(random_state=0, verbosity=0, class_weight='balanced')\n",
    "\n",
    "# Create the algorithm chains\n",
    "pipe_model = Pipeline([\n",
    "        ('transformer', transformer),\n",
    "        ('balancing', smote), \n",
    "        ('model', xgbc)\n",
    "        ])\n",
    "\n",
    "# Hyperparameter tuning\n",
    "random_xgbc = RandomizedSearchCV(\n",
    "    estimator = pipe_model, \n",
    "    param_distributions = hyperparam_space_xgbc, \n",
    "    cv = 5, \n",
    "    scoring = f2_score, \n",
    "    n_jobs = -1,  \n",
    "    random_state=0,\n",
    "    n_iter= 1000\n",
    ")"
   ]
  },
  {
   "cell_type": "code",
   "execution_count": 29,
   "metadata": {},
   "outputs": [
    {
     "data": {
      "text/plain": [
       "RandomizedSearchCV(cv=5,\n",
       "                   estimator=Pipeline(steps=[('transformer',\n",
       "                                              ColumnTransformer(remainder='passthrough',\n",
       "                                                                transformers=[('pipe_impute_robust',\n",
       "                                                                               Pipeline(steps=[('median',\n",
       "                                                                                                SimpleImputer(strategy='median')),\n",
       "                                                                                               ('poly',\n",
       "                                                                                                PolynomialFeatures()),\n",
       "                                                                                               ('scaler',\n",
       "                                                                                                RobustScaler())]),\n",
       "                                                                               ['Tenure',\n",
       "                                                                                'WarehouseToHome',\n",
       "                                                                                'NumberOfDeviceRegistered',\n",
       "                                                                                'SatisfactionScore',\n",
       "                                                                                'NumberOfAddre...\n",
       "                                                                58, 60, 62, 64,\n",
       "                                                                66, 68, 70, 72,\n",
       "                                                                74, 76, 78, 80,\n",
       "                                                                82, 84, 86, 88,\n",
       "                                                                90, 92, 94, 96,\n",
       "                                                                98],\n",
       "                                        'model__subsample': [0.1, 0.2,\n",
       "                                                             0.30000000000000004,\n",
       "                                                             0.4, 0.5, 0.6,\n",
       "                                                             0.7000000000000001,\n",
       "                                                             0.8, 0.9],\n",
       "                                        'transformer__pipe_impute_robust__poly__degree': [1,\n",
       "                                                                                          2,\n",
       "                                                                                          3],\n",
       "                                        'transformer__pipe_impute_robust__scaler': [MinMaxScaler(),\n",
       "                                                                                    StandardScaler(),\n",
       "                                                                                    RobustScaler()]},\n",
       "                   random_state=0, scoring=make_scorer(fbeta_score, beta=2))"
      ]
     },
     "execution_count": 29,
     "metadata": {},
     "output_type": "execute_result"
    }
   ],
   "source": [
    "# fitting\n",
    "random_xgbc.fit(X_train, y_train)"
   ]
  },
  {
   "cell_type": "code",
   "execution_count": 30,
   "metadata": {},
   "outputs": [
    {
     "data": {
      "text/html": [
       "<div>\n",
       "<style scoped>\n",
       "    .dataframe tbody tr th:only-of-type {\n",
       "        vertical-align: middle;\n",
       "    }\n",
       "\n",
       "    .dataframe tbody tr th {\n",
       "        vertical-align: top;\n",
       "    }\n",
       "\n",
       "    .dataframe thead th {\n",
       "        text-align: right;\n",
       "    }\n",
       "</style>\n",
       "<table border=\"1\" class=\"dataframe\">\n",
       "  <thead>\n",
       "    <tr style=\"text-align: right;\">\n",
       "      <th></th>\n",
       "      <th>mean_fit_time</th>\n",
       "      <th>std_fit_time</th>\n",
       "      <th>mean_score_time</th>\n",
       "      <th>std_score_time</th>\n",
       "      <th>param_transformer__pipe_impute_robust__scaler</th>\n",
       "      <th>param_transformer__pipe_impute_robust__poly__degree</th>\n",
       "      <th>param_model__subsample</th>\n",
       "      <th>param_model__n_estimators</th>\n",
       "      <th>param_model__max_depth</th>\n",
       "      <th>param_model__learning_rate</th>\n",
       "      <th>param_model__colsample_bytree</th>\n",
       "      <th>param_balancing</th>\n",
       "      <th>params</th>\n",
       "      <th>split0_test_score</th>\n",
       "      <th>split1_test_score</th>\n",
       "      <th>split2_test_score</th>\n",
       "      <th>split3_test_score</th>\n",
       "      <th>split4_test_score</th>\n",
       "      <th>mean_test_score</th>\n",
       "      <th>std_test_score</th>\n",
       "      <th>rank_test_score</th>\n",
       "    </tr>\n",
       "  </thead>\n",
       "  <tbody>\n",
       "    <tr>\n",
       "      <th>973</th>\n",
       "      <td>0.224111</td>\n",
       "      <td>0.005703</td>\n",
       "      <td>0.017023</td>\n",
       "      <td>0.003418</td>\n",
       "      <td>RobustScaler()</td>\n",
       "      <td>1</td>\n",
       "      <td>0.7</td>\n",
       "      <td>90</td>\n",
       "      <td>45</td>\n",
       "      <td>0.1</td>\n",
       "      <td>0.7</td>\n",
       "      <td>RandomUnderSampler(random_state=0)</td>\n",
       "      <td>{'transformer__pipe_impute_robust__scaler': Ro...</td>\n",
       "      <td>0.821355</td>\n",
       "      <td>0.751029</td>\n",
       "      <td>0.744681</td>\n",
       "      <td>0.734694</td>\n",
       "      <td>0.784114</td>\n",
       "      <td>0.767175</td>\n",
       "      <td>0.031762</td>\n",
       "      <td>1</td>\n",
       "    </tr>\n",
       "    <tr>\n",
       "      <th>552</th>\n",
       "      <td>1.168212</td>\n",
       "      <td>0.048628</td>\n",
       "      <td>0.018349</td>\n",
       "      <td>0.003135</td>\n",
       "      <td>RobustScaler()</td>\n",
       "      <td>1</td>\n",
       "      <td>0.8</td>\n",
       "      <td>78</td>\n",
       "      <td>89</td>\n",
       "      <td>0.06</td>\n",
       "      <td>0.7</td>\n",
       "      <td>RandomOverSampler(random_state=0)</td>\n",
       "      <td>{'transformer__pipe_impute_robust__scaler': Ro...</td>\n",
       "      <td>0.807175</td>\n",
       "      <td>0.727700</td>\n",
       "      <td>0.753589</td>\n",
       "      <td>0.770115</td>\n",
       "      <td>0.776471</td>\n",
       "      <td>0.767010</td>\n",
       "      <td>0.026221</td>\n",
       "      <td>2</td>\n",
       "    </tr>\n",
       "    <tr>\n",
       "      <th>209</th>\n",
       "      <td>0.400161</td>\n",
       "      <td>0.024788</td>\n",
       "      <td>0.020913</td>\n",
       "      <td>0.003057</td>\n",
       "      <td>RobustScaler()</td>\n",
       "      <td>2</td>\n",
       "      <td>0.8</td>\n",
       "      <td>74</td>\n",
       "      <td>59</td>\n",
       "      <td>0.23</td>\n",
       "      <td>0.6</td>\n",
       "      <td>RandomUnderSampler(random_state=0)</td>\n",
       "      <td>{'transformer__pipe_impute_robust__scaler': Ro...</td>\n",
       "      <td>0.771543</td>\n",
       "      <td>0.757576</td>\n",
       "      <td>0.756303</td>\n",
       "      <td>0.712810</td>\n",
       "      <td>0.833333</td>\n",
       "      <td>0.766313</td>\n",
       "      <td>0.038880</td>\n",
       "      <td>3</td>\n",
       "    </tr>\n",
       "    <tr>\n",
       "      <th>556</th>\n",
       "      <td>0.662783</td>\n",
       "      <td>0.015089</td>\n",
       "      <td>0.015411</td>\n",
       "      <td>0.006423</td>\n",
       "      <td>StandardScaler()</td>\n",
       "      <td>1</td>\n",
       "      <td>0.6</td>\n",
       "      <td>56</td>\n",
       "      <td>47</td>\n",
       "      <td>0.36</td>\n",
       "      <td>0.7</td>\n",
       "      <td>RandomOverSampler(random_state=0)</td>\n",
       "      <td>{'transformer__pipe_impute_robust__scaler': St...</td>\n",
       "      <td>0.800915</td>\n",
       "      <td>0.742925</td>\n",
       "      <td>0.736715</td>\n",
       "      <td>0.749415</td>\n",
       "      <td>0.794931</td>\n",
       "      <td>0.764980</td>\n",
       "      <td>0.027262</td>\n",
       "      <td>4</td>\n",
       "    </tr>\n",
       "    <tr>\n",
       "      <th>453</th>\n",
       "      <td>0.624113</td>\n",
       "      <td>0.009796</td>\n",
       "      <td>0.019997</td>\n",
       "      <td>0.003550</td>\n",
       "      <td>StandardScaler()</td>\n",
       "      <td>2</td>\n",
       "      <td>0.9</td>\n",
       "      <td>90</td>\n",
       "      <td>51</td>\n",
       "      <td>0.09</td>\n",
       "      <td>0.8</td>\n",
       "      <td>RandomUnderSampler(random_state=0)</td>\n",
       "      <td>{'transformer__pipe_impute_robust__scaler': St...</td>\n",
       "      <td>0.797980</td>\n",
       "      <td>0.755694</td>\n",
       "      <td>0.738397</td>\n",
       "      <td>0.740741</td>\n",
       "      <td>0.791075</td>\n",
       "      <td>0.764777</td>\n",
       "      <td>0.025101</td>\n",
       "      <td>5</td>\n",
       "    </tr>\n",
       "  </tbody>\n",
       "</table>\n",
       "</div>"
      ],
      "text/plain": [
       "     mean_fit_time  std_fit_time  mean_score_time  std_score_time  \\\n",
       "973       0.224111      0.005703         0.017023        0.003418   \n",
       "552       1.168212      0.048628         0.018349        0.003135   \n",
       "209       0.400161      0.024788         0.020913        0.003057   \n",
       "556       0.662783      0.015089         0.015411        0.006423   \n",
       "453       0.624113      0.009796         0.019997        0.003550   \n",
       "\n",
       "    param_transformer__pipe_impute_robust__scaler  \\\n",
       "973                                RobustScaler()   \n",
       "552                                RobustScaler()   \n",
       "209                                RobustScaler()   \n",
       "556                              StandardScaler()   \n",
       "453                              StandardScaler()   \n",
       "\n",
       "    param_transformer__pipe_impute_robust__poly__degree  \\\n",
       "973                                                  1    \n",
       "552                                                  1    \n",
       "209                                                  2    \n",
       "556                                                  1    \n",
       "453                                                  2    \n",
       "\n",
       "    param_model__subsample param_model__n_estimators param_model__max_depth  \\\n",
       "973                    0.7                        90                     45   \n",
       "552                    0.8                        78                     89   \n",
       "209                    0.8                        74                     59   \n",
       "556                    0.6                        56                     47   \n",
       "453                    0.9                        90                     51   \n",
       "\n",
       "    param_model__learning_rate param_model__colsample_bytree  \\\n",
       "973                        0.1                           0.7   \n",
       "552                       0.06                           0.7   \n",
       "209                       0.23                           0.6   \n",
       "556                       0.36                           0.7   \n",
       "453                       0.09                           0.8   \n",
       "\n",
       "                        param_balancing  \\\n",
       "973  RandomUnderSampler(random_state=0)   \n",
       "552   RandomOverSampler(random_state=0)   \n",
       "209  RandomUnderSampler(random_state=0)   \n",
       "556   RandomOverSampler(random_state=0)   \n",
       "453  RandomUnderSampler(random_state=0)   \n",
       "\n",
       "                                                params  split0_test_score  \\\n",
       "973  {'transformer__pipe_impute_robust__scaler': Ro...           0.821355   \n",
       "552  {'transformer__pipe_impute_robust__scaler': Ro...           0.807175   \n",
       "209  {'transformer__pipe_impute_robust__scaler': Ro...           0.771543   \n",
       "556  {'transformer__pipe_impute_robust__scaler': St...           0.800915   \n",
       "453  {'transformer__pipe_impute_robust__scaler': St...           0.797980   \n",
       "\n",
       "     split1_test_score  split2_test_score  split3_test_score  \\\n",
       "973           0.751029           0.744681           0.734694   \n",
       "552           0.727700           0.753589           0.770115   \n",
       "209           0.757576           0.756303           0.712810   \n",
       "556           0.742925           0.736715           0.749415   \n",
       "453           0.755694           0.738397           0.740741   \n",
       "\n",
       "     split4_test_score  mean_test_score  std_test_score  rank_test_score  \n",
       "973           0.784114         0.767175        0.031762                1  \n",
       "552           0.776471         0.767010        0.026221                2  \n",
       "209           0.833333         0.766313        0.038880                3  \n",
       "556           0.794931         0.764980        0.027262                4  \n",
       "453           0.791075         0.764777        0.025101                5  "
      ]
     },
     "execution_count": 30,
     "metadata": {},
     "output_type": "execute_result"
    }
   ],
   "source": [
    "# create dataframe\n",
    "pd.DataFrame(random_xgbc.cv_results_).sort_values(by='rank_test_score').head()"
   ]
  },
  {
   "cell_type": "code",
   "execution_count": 31,
   "metadata": {},
   "outputs": [
    {
     "name": "stdout",
     "output_type": "stream",
     "text": [
      "XGBoost\n",
      "Best_score: 0.7671745648583999\n",
      "Best_params: {'transformer__pipe_impute_robust__scaler': RobustScaler(), 'transformer__pipe_impute_robust__poly__degree': 1, 'model__subsample': 0.7000000000000001, 'model__n_estimators': 90, 'model__max_depth': 45, 'model__learning_rate': 0.09999999999999999, 'model__colsample_bytree': 0.7000000000000001, 'balancing': RandomUnderSampler(random_state=0)}\n"
     ]
    }
   ],
   "source": [
    "print('XGBoost')\n",
    "print('Best_score:', random_xgbc.best_score_)\n",
    "print('Best_params:', random_xgbc.best_params_)"
   ]
  },
  {
   "attachments": {},
   "cell_type": "markdown",
   "metadata": {},
   "source": [
    "Tuning Kedua"
   ]
  },
  {
   "cell_type": "code",
   "execution_count": 32,
   "metadata": {},
   "outputs": [],
   "source": [
    "# Hyperparam space XGboost\n",
    "hyperparam_space_xgbc = {\n",
    "    'balancing':[rus, ros],\n",
    "    'model__max_depth': list(np.arange(35,110,1)), \n",
    "    'model__learning_rate': list(np.arange(0.1, 0.5, 0.05)),\n",
    "    'model__n_estimators': list(np.arange(50,100,1)),\n",
    "    'model__subsample': list(np.arange(0.5, 1.0, 0.05)),\n",
    "    'model__colsample_bytree': list(np.arange(0.5, 1.0, 0.05)),\n",
    "    'transformer__pipe_impute_robust__scaler': [StandardScaler(), RobustScaler()],\n",
    "    'transformer__pipe_impute_robust__poly__degree': [1,2]\n",
    "}"
   ]
  },
  {
   "cell_type": "code",
   "execution_count": 33,
   "metadata": {},
   "outputs": [],
   "source": [
    "# Benchmark model 1\n",
    "xgbc = XGBClassifier(random_state=0, verbosity=0, class_weight='balanced')\n",
    "\n",
    "# Create the algorithm chains\n",
    "pipe_model = Pipeline([\n",
    "        ('transformer', transformer),\n",
    "        ('balancing', smote), \n",
    "        ('model', xgbc)\n",
    "        ])\n",
    "\n",
    "# Hyperparameter tuning\n",
    "random_xgbc = RandomizedSearchCV(\n",
    "    estimator = pipe_model, \n",
    "    param_distributions = hyperparam_space_xgbc, \n",
    "    cv = 5, \n",
    "    scoring = f2_score, \n",
    "    n_jobs = -1,  \n",
    "    random_state=0,\n",
    "    n_iter= 1000\n",
    ")"
   ]
  },
  {
   "cell_type": "code",
   "execution_count": 34,
   "metadata": {},
   "outputs": [
    {
     "data": {
      "text/plain": [
       "RandomizedSearchCV(cv=5,\n",
       "                   estimator=Pipeline(steps=[('transformer',\n",
       "                                              ColumnTransformer(remainder='passthrough',\n",
       "                                                                transformers=[('pipe_impute_robust',\n",
       "                                                                               Pipeline(steps=[('median',\n",
       "                                                                                                SimpleImputer(strategy='median')),\n",
       "                                                                                               ('poly',\n",
       "                                                                                                PolynomialFeatures()),\n",
       "                                                                                               ('scaler',\n",
       "                                                                                                RobustScaler())]),\n",
       "                                                                               ['Tenure',\n",
       "                                                                                'WarehouseToHome',\n",
       "                                                                                'NumberOfDeviceRegistered',\n",
       "                                                                                'SatisfactionScore',\n",
       "                                                                                'NumberOfAddre...\n",
       "                                        'model__subsample': [0.5, 0.55,\n",
       "                                                             0.6000000000000001,\n",
       "                                                             0.6500000000000001,\n",
       "                                                             0.7000000000000002,\n",
       "                                                             0.7500000000000002,\n",
       "                                                             0.8000000000000003,\n",
       "                                                             0.8500000000000003,\n",
       "                                                             0.9000000000000004,\n",
       "                                                             0.9500000000000004],\n",
       "                                        'transformer__pipe_impute_robust__poly__degree': [1,\n",
       "                                                                                          2],\n",
       "                                        'transformer__pipe_impute_robust__scaler': [StandardScaler(),\n",
       "                                                                                    RobustScaler()]},\n",
       "                   random_state=0, scoring=make_scorer(fbeta_score, beta=2))"
      ]
     },
     "execution_count": 34,
     "metadata": {},
     "output_type": "execute_result"
    }
   ],
   "source": [
    "# fitting\n",
    "random_xgbc.fit(X_train, y_train)"
   ]
  },
  {
   "cell_type": "code",
   "execution_count": 35,
   "metadata": {},
   "outputs": [
    {
     "data": {
      "text/html": [
       "<div>\n",
       "<style scoped>\n",
       "    .dataframe tbody tr th:only-of-type {\n",
       "        vertical-align: middle;\n",
       "    }\n",
       "\n",
       "    .dataframe tbody tr th {\n",
       "        vertical-align: top;\n",
       "    }\n",
       "\n",
       "    .dataframe thead th {\n",
       "        text-align: right;\n",
       "    }\n",
       "</style>\n",
       "<table border=\"1\" class=\"dataframe\">\n",
       "  <thead>\n",
       "    <tr style=\"text-align: right;\">\n",
       "      <th></th>\n",
       "      <th>mean_fit_time</th>\n",
       "      <th>std_fit_time</th>\n",
       "      <th>mean_score_time</th>\n",
       "      <th>std_score_time</th>\n",
       "      <th>param_transformer__pipe_impute_robust__scaler</th>\n",
       "      <th>param_transformer__pipe_impute_robust__poly__degree</th>\n",
       "      <th>param_model__subsample</th>\n",
       "      <th>param_model__n_estimators</th>\n",
       "      <th>param_model__max_depth</th>\n",
       "      <th>param_model__learning_rate</th>\n",
       "      <th>param_model__colsample_bytree</th>\n",
       "      <th>param_balancing</th>\n",
       "      <th>params</th>\n",
       "      <th>split0_test_score</th>\n",
       "      <th>split1_test_score</th>\n",
       "      <th>split2_test_score</th>\n",
       "      <th>split3_test_score</th>\n",
       "      <th>split4_test_score</th>\n",
       "      <th>mean_test_score</th>\n",
       "      <th>std_test_score</th>\n",
       "      <th>rank_test_score</th>\n",
       "    </tr>\n",
       "  </thead>\n",
       "  <tbody>\n",
       "    <tr>\n",
       "      <th>704</th>\n",
       "      <td>0.187512</td>\n",
       "      <td>0.008382</td>\n",
       "      <td>0.018595</td>\n",
       "      <td>0.005375</td>\n",
       "      <td>StandardScaler()</td>\n",
       "      <td>1</td>\n",
       "      <td>0.95</td>\n",
       "      <td>78</td>\n",
       "      <td>105</td>\n",
       "      <td>0.35</td>\n",
       "      <td>0.7</td>\n",
       "      <td>RandomUnderSampler(random_state=0)</td>\n",
       "      <td>{'transformer__pipe_impute_robust__scaler': St...</td>\n",
       "      <td>0.797546</td>\n",
       "      <td>0.786164</td>\n",
       "      <td>0.774194</td>\n",
       "      <td>0.757576</td>\n",
       "      <td>0.774793</td>\n",
       "      <td>0.778054</td>\n",
       "      <td>0.013346</td>\n",
       "      <td>1</td>\n",
       "    </tr>\n",
       "    <tr>\n",
       "      <th>276</th>\n",
       "      <td>0.594303</td>\n",
       "      <td>0.014057</td>\n",
       "      <td>0.019352</td>\n",
       "      <td>0.003669</td>\n",
       "      <td>StandardScaler()</td>\n",
       "      <td>2</td>\n",
       "      <td>0.95</td>\n",
       "      <td>96</td>\n",
       "      <td>76</td>\n",
       "      <td>0.15</td>\n",
       "      <td>0.8</td>\n",
       "      <td>RandomUnderSampler(random_state=0)</td>\n",
       "      <td>{'transformer__pipe_impute_robust__scaler': St...</td>\n",
       "      <td>0.797980</td>\n",
       "      <td>0.766046</td>\n",
       "      <td>0.730689</td>\n",
       "      <td>0.773196</td>\n",
       "      <td>0.802846</td>\n",
       "      <td>0.774151</td>\n",
       "      <td>0.025872</td>\n",
       "      <td>2</td>\n",
       "    </tr>\n",
       "    <tr>\n",
       "      <th>11</th>\n",
       "      <td>0.231859</td>\n",
       "      <td>0.022209</td>\n",
       "      <td>0.021053</td>\n",
       "      <td>0.003744</td>\n",
       "      <td>StandardScaler()</td>\n",
       "      <td>1</td>\n",
       "      <td>0.9</td>\n",
       "      <td>83</td>\n",
       "      <td>109</td>\n",
       "      <td>0.15</td>\n",
       "      <td>0.85</td>\n",
       "      <td>RandomUnderSampler(random_state=0)</td>\n",
       "      <td>{'transformer__pipe_impute_robust__scaler': St...</td>\n",
       "      <td>0.804829</td>\n",
       "      <td>0.757261</td>\n",
       "      <td>0.752119</td>\n",
       "      <td>0.772358</td>\n",
       "      <td>0.781893</td>\n",
       "      <td>0.773692</td>\n",
       "      <td>0.018836</td>\n",
       "      <td>3</td>\n",
       "    </tr>\n",
       "    <tr>\n",
       "      <th>483</th>\n",
       "      <td>0.209468</td>\n",
       "      <td>0.003395</td>\n",
       "      <td>0.015063</td>\n",
       "      <td>0.002557</td>\n",
       "      <td>StandardScaler()</td>\n",
       "      <td>1</td>\n",
       "      <td>0.95</td>\n",
       "      <td>71</td>\n",
       "      <td>94</td>\n",
       "      <td>0.1</td>\n",
       "      <td>0.75</td>\n",
       "      <td>RandomUnderSampler(random_state=0)</td>\n",
       "      <td>{'transformer__pipe_impute_robust__scaler': St...</td>\n",
       "      <td>0.809717</td>\n",
       "      <td>0.757261</td>\n",
       "      <td>0.734043</td>\n",
       "      <td>0.769231</td>\n",
       "      <td>0.797546</td>\n",
       "      <td>0.773559</td>\n",
       "      <td>0.027308</td>\n",
       "      <td>4</td>\n",
       "    </tr>\n",
       "    <tr>\n",
       "      <th>543</th>\n",
       "      <td>0.429539</td>\n",
       "      <td>0.008524</td>\n",
       "      <td>0.017190</td>\n",
       "      <td>0.000636</td>\n",
       "      <td>StandardScaler()</td>\n",
       "      <td>2</td>\n",
       "      <td>0.95</td>\n",
       "      <td>85</td>\n",
       "      <td>40</td>\n",
       "      <td>0.15</td>\n",
       "      <td>0.6</td>\n",
       "      <td>RandomUnderSampler(random_state=0)</td>\n",
       "      <td>{'transformer__pipe_impute_robust__scaler': St...</td>\n",
       "      <td>0.791075</td>\n",
       "      <td>0.759754</td>\n",
       "      <td>0.755319</td>\n",
       "      <td>0.758197</td>\n",
       "      <td>0.802469</td>\n",
       "      <td>0.773363</td>\n",
       "      <td>0.019502</td>\n",
       "      <td>5</td>\n",
       "    </tr>\n",
       "  </tbody>\n",
       "</table>\n",
       "</div>"
      ],
      "text/plain": [
       "     mean_fit_time  std_fit_time  mean_score_time  std_score_time  \\\n",
       "704       0.187512      0.008382         0.018595        0.005375   \n",
       "276       0.594303      0.014057         0.019352        0.003669   \n",
       "11        0.231859      0.022209         0.021053        0.003744   \n",
       "483       0.209468      0.003395         0.015063        0.002557   \n",
       "543       0.429539      0.008524         0.017190        0.000636   \n",
       "\n",
       "    param_transformer__pipe_impute_robust__scaler  \\\n",
       "704                              StandardScaler()   \n",
       "276                              StandardScaler()   \n",
       "11                               StandardScaler()   \n",
       "483                              StandardScaler()   \n",
       "543                              StandardScaler()   \n",
       "\n",
       "    param_transformer__pipe_impute_robust__poly__degree  \\\n",
       "704                                                  1    \n",
       "276                                                  2    \n",
       "11                                                   1    \n",
       "483                                                  1    \n",
       "543                                                  2    \n",
       "\n",
       "    param_model__subsample param_model__n_estimators param_model__max_depth  \\\n",
       "704                   0.95                        78                    105   \n",
       "276                   0.95                        96                     76   \n",
       "11                     0.9                        83                    109   \n",
       "483                   0.95                        71                     94   \n",
       "543                   0.95                        85                     40   \n",
       "\n",
       "    param_model__learning_rate param_model__colsample_bytree  \\\n",
       "704                       0.35                           0.7   \n",
       "276                       0.15                           0.8   \n",
       "11                        0.15                          0.85   \n",
       "483                        0.1                          0.75   \n",
       "543                       0.15                           0.6   \n",
       "\n",
       "                        param_balancing  \\\n",
       "704  RandomUnderSampler(random_state=0)   \n",
       "276  RandomUnderSampler(random_state=0)   \n",
       "11   RandomUnderSampler(random_state=0)   \n",
       "483  RandomUnderSampler(random_state=0)   \n",
       "543  RandomUnderSampler(random_state=0)   \n",
       "\n",
       "                                                params  split0_test_score  \\\n",
       "704  {'transformer__pipe_impute_robust__scaler': St...           0.797546   \n",
       "276  {'transformer__pipe_impute_robust__scaler': St...           0.797980   \n",
       "11   {'transformer__pipe_impute_robust__scaler': St...           0.804829   \n",
       "483  {'transformer__pipe_impute_robust__scaler': St...           0.809717   \n",
       "543  {'transformer__pipe_impute_robust__scaler': St...           0.791075   \n",
       "\n",
       "     split1_test_score  split2_test_score  split3_test_score  \\\n",
       "704           0.786164           0.774194           0.757576   \n",
       "276           0.766046           0.730689           0.773196   \n",
       "11            0.757261           0.752119           0.772358   \n",
       "483           0.757261           0.734043           0.769231   \n",
       "543           0.759754           0.755319           0.758197   \n",
       "\n",
       "     split4_test_score  mean_test_score  std_test_score  rank_test_score  \n",
       "704           0.774793         0.778054        0.013346                1  \n",
       "276           0.802846         0.774151        0.025872                2  \n",
       "11            0.781893         0.773692        0.018836                3  \n",
       "483           0.797546         0.773559        0.027308                4  \n",
       "543           0.802469         0.773363        0.019502                5  "
      ]
     },
     "execution_count": 35,
     "metadata": {},
     "output_type": "execute_result"
    }
   ],
   "source": [
    "# create dataframe\n",
    "pd.DataFrame(random_xgbc.cv_results_).sort_values(by='rank_test_score').head()"
   ]
  },
  {
   "cell_type": "code",
   "execution_count": 36,
   "metadata": {},
   "outputs": [
    {
     "name": "stdout",
     "output_type": "stream",
     "text": [
      "XGBoost\n",
      "Best_score: 0.7780544457350247\n",
      "Best_params: {'transformer__pipe_impute_robust__scaler': StandardScaler(), 'transformer__pipe_impute_robust__poly__degree': 1, 'model__subsample': 0.9500000000000004, 'model__n_estimators': 78, 'model__max_depth': 105, 'model__learning_rate': 0.3500000000000001, 'model__colsample_bytree': 0.7000000000000002, 'balancing': RandomUnderSampler(random_state=0)}\n"
     ]
    }
   ],
   "source": [
    "print('XGBoost')\n",
    "print('Best_score:', random_xgbc.best_score_)\n",
    "print('Best_params:', random_xgbc.best_params_)"
   ]
  },
  {
   "attachments": {},
   "cell_type": "markdown",
   "metadata": {},
   "source": [
    "Algoritma XGBoost dilakukan tuning sebanyak 2 kali. Tuning pertama berhasil meningkatkan best score model dari model yang dibuat sebelum dilakukan tuning. Tuning kedua dilakukan dengan mempersempit range dari parameter yang ada, menyesuaikan dari best params hasil tuning pertama. Best score hasil tuning kedua pun mengalami peningkatan."
   ]
  },
  {
   "attachments": {},
   "cell_type": "markdown",
   "metadata": {},
   "source": [
    "### Random Forest"
   ]
  },
  {
   "attachments": {},
   "cell_type": "markdown",
   "metadata": {},
   "source": [
    "Tuning Pertama"
   ]
  },
  {
   "cell_type": "code",
   "execution_count": 37,
   "metadata": {},
   "outputs": [],
   "source": [
    "# Hyperparam space Random Forest\n",
    "hyperparam_space_rf = {\n",
    "    'balancing':[smote, rus, ros, nearmiss, None],\n",
    "    'model__max_depth': list(np.arange(1,100,2)), \n",
    "    'model__n_estimators': list(np.arange(1,100,2)),\n",
    "    'model__max_features': ['auto', 'sqrt', 'log2'],\n",
    "    'model__min_samples_leaf': list(np.arange(1,100,2)),\n",
    "    'model__min_samples_split': list(np.arange(1,100,2)),\n",
    "    'transformer__pipe_impute_robust__scaler': [MinMaxScaler(), StandardScaler(), RobustScaler()],\n",
    "    'transformer__pipe_impute_robust__poly__degree': [1,2,3]\n",
    "}"
   ]
  },
  {
   "cell_type": "code",
   "execution_count": 38,
   "metadata": {},
   "outputs": [],
   "source": [
    "# Benchmark model 2\n",
    "rf = RandomForestClassifier(random_state=0, class_weight='balanced') \n",
    "\n",
    "# Create the algorithm chains\n",
    "pipe_model = Pipeline([\n",
    "        ('transformer', transformer),\n",
    "        ('balancing', smote), \n",
    "        ('model', rf)\n",
    "        ])\n",
    "\n",
    "# Hyperparameter tuning\n",
    "random_rf = RandomizedSearchCV(\n",
    "    estimator = pipe_model, \n",
    "    param_distributions = hyperparam_space_rf, \n",
    "    cv = 5, \n",
    "    scoring = f2_score, \n",
    "    n_jobs = -1,  \n",
    "    random_state=0,\n",
    "    n_iter= 1000\n",
    ")"
   ]
  },
  {
   "cell_type": "code",
   "execution_count": 39,
   "metadata": {},
   "outputs": [
    {
     "data": {
      "text/plain": [
       "RandomizedSearchCV(cv=5,\n",
       "                   estimator=Pipeline(steps=[('transformer',\n",
       "                                              ColumnTransformer(remainder='passthrough',\n",
       "                                                                transformers=[('pipe_impute_robust',\n",
       "                                                                               Pipeline(steps=[('median',\n",
       "                                                                                                SimpleImputer(strategy='median')),\n",
       "                                                                                               ('poly',\n",
       "                                                                                                PolynomialFeatures()),\n",
       "                                                                                               ('scaler',\n",
       "                                                                                                RobustScaler())]),\n",
       "                                                                               ['Tenure',\n",
       "                                                                                'WarehouseToHome',\n",
       "                                                                                'NumberOfDeviceRegistered',\n",
       "                                                                                'SatisfactionScore',\n",
       "                                                                                'NumberOfAddre...\n",
       "                                                                     39, 41, 43,\n",
       "                                                                     45, 47, 49,\n",
       "                                                                     51, 53, 55,\n",
       "                                                                     57, 59, ...],\n",
       "                                        'model__n_estimators': [1, 3, 5, 7, 9,\n",
       "                                                                11, 13, 15, 17,\n",
       "                                                                19, 21, 23, 25,\n",
       "                                                                27, 29, 31, 33,\n",
       "                                                                35, 37, 39, 41,\n",
       "                                                                43, 45, 47, 49,\n",
       "                                                                51, 53, 55, 57,\n",
       "                                                                59, ...],\n",
       "                                        'transformer__pipe_impute_robust__poly__degree': [1,\n",
       "                                                                                          2,\n",
       "                                                                                          3],\n",
       "                                        'transformer__pipe_impute_robust__scaler': [MinMaxScaler(),\n",
       "                                                                                    StandardScaler(),\n",
       "                                                                                    RobustScaler()]},\n",
       "                   random_state=0, scoring=make_scorer(fbeta_score, beta=2))"
      ]
     },
     "execution_count": 39,
     "metadata": {},
     "output_type": "execute_result"
    }
   ],
   "source": [
    "# fitting\n",
    "random_rf.fit(X_train, y_train)"
   ]
  },
  {
   "cell_type": "code",
   "execution_count": 40,
   "metadata": {},
   "outputs": [
    {
     "data": {
      "text/html": [
       "<div>\n",
       "<style scoped>\n",
       "    .dataframe tbody tr th:only-of-type {\n",
       "        vertical-align: middle;\n",
       "    }\n",
       "\n",
       "    .dataframe tbody tr th {\n",
       "        vertical-align: top;\n",
       "    }\n",
       "\n",
       "    .dataframe thead th {\n",
       "        text-align: right;\n",
       "    }\n",
       "</style>\n",
       "<table border=\"1\" class=\"dataframe\">\n",
       "  <thead>\n",
       "    <tr style=\"text-align: right;\">\n",
       "      <th></th>\n",
       "      <th>mean_fit_time</th>\n",
       "      <th>std_fit_time</th>\n",
       "      <th>mean_score_time</th>\n",
       "      <th>std_score_time</th>\n",
       "      <th>param_transformer__pipe_impute_robust__scaler</th>\n",
       "      <th>param_transformer__pipe_impute_robust__poly__degree</th>\n",
       "      <th>param_model__n_estimators</th>\n",
       "      <th>param_model__min_samples_split</th>\n",
       "      <th>param_model__min_samples_leaf</th>\n",
       "      <th>param_model__max_features</th>\n",
       "      <th>param_model__max_depth</th>\n",
       "      <th>param_balancing</th>\n",
       "      <th>params</th>\n",
       "      <th>split0_test_score</th>\n",
       "      <th>split1_test_score</th>\n",
       "      <th>split2_test_score</th>\n",
       "      <th>split3_test_score</th>\n",
       "      <th>split4_test_score</th>\n",
       "      <th>mean_test_score</th>\n",
       "      <th>std_test_score</th>\n",
       "      <th>rank_test_score</th>\n",
       "    </tr>\n",
       "  </thead>\n",
       "  <tbody>\n",
       "    <tr>\n",
       "      <th>0</th>\n",
       "      <td>0.096263</td>\n",
       "      <td>0.000123</td>\n",
       "      <td>0.018835</td>\n",
       "      <td>0.003203</td>\n",
       "      <td>MinMaxScaler()</td>\n",
       "      <td>3</td>\n",
       "      <td>21</td>\n",
       "      <td>89</td>\n",
       "      <td>35</td>\n",
       "      <td>auto</td>\n",
       "      <td>25</td>\n",
       "      <td>RandomUnderSampler(random_state=0)</td>\n",
       "      <td>{'transformer__pipe_impute_robust__scaler': Mi...</td>\n",
       "      <td>0.680851</td>\n",
       "      <td>0.630252</td>\n",
       "      <td>0.676533</td>\n",
       "      <td>0.655391</td>\n",
       "      <td>0.625000</td>\n",
       "      <td>0.653605</td>\n",
       "      <td>0.022956</td>\n",
       "      <td>-2147483648</td>\n",
       "    </tr>\n",
       "    <tr>\n",
       "      <th>658</th>\n",
       "      <td>0.063998</td>\n",
       "      <td>0.007486</td>\n",
       "      <td>0.015428</td>\n",
       "      <td>0.004581</td>\n",
       "      <td>MinMaxScaler()</td>\n",
       "      <td>2</td>\n",
       "      <td>5</td>\n",
       "      <td>43</td>\n",
       "      <td>21</td>\n",
       "      <td>auto</td>\n",
       "      <td>23</td>\n",
       "      <td>None</td>\n",
       "      <td>{'transformer__pipe_impute_robust__scaler': Mi...</td>\n",
       "      <td>0.744235</td>\n",
       "      <td>0.670860</td>\n",
       "      <td>0.712766</td>\n",
       "      <td>0.685654</td>\n",
       "      <td>0.700637</td>\n",
       "      <td>0.702830</td>\n",
       "      <td>0.025040</td>\n",
       "      <td>-2147483648</td>\n",
       "    </tr>\n",
       "    <tr>\n",
       "      <th>659</th>\n",
       "      <td>0.579087</td>\n",
       "      <td>0.039531</td>\n",
       "      <td>0.035633</td>\n",
       "      <td>0.003491</td>\n",
       "      <td>RobustScaler()</td>\n",
       "      <td>2</td>\n",
       "      <td>81</td>\n",
       "      <td>99</td>\n",
       "      <td>27</td>\n",
       "      <td>auto</td>\n",
       "      <td>51</td>\n",
       "      <td>None</td>\n",
       "      <td>{'transformer__pipe_impute_robust__scaler': Ro...</td>\n",
       "      <td>0.721868</td>\n",
       "      <td>0.637149</td>\n",
       "      <td>0.694143</td>\n",
       "      <td>0.689278</td>\n",
       "      <td>0.700837</td>\n",
       "      <td>0.688655</td>\n",
       "      <td>0.028053</td>\n",
       "      <td>-2147483648</td>\n",
       "    </tr>\n",
       "    <tr>\n",
       "      <th>660</th>\n",
       "      <td>0.566013</td>\n",
       "      <td>0.027530</td>\n",
       "      <td>0.034406</td>\n",
       "      <td>0.001372</td>\n",
       "      <td>RobustScaler()</td>\n",
       "      <td>1</td>\n",
       "      <td>89</td>\n",
       "      <td>97</td>\n",
       "      <td>7</td>\n",
       "      <td>auto</td>\n",
       "      <td>45</td>\n",
       "      <td>SMOTE(random_state=0)</td>\n",
       "      <td>{'transformer__pipe_impute_robust__scaler': Ro...</td>\n",
       "      <td>0.717345</td>\n",
       "      <td>0.688172</td>\n",
       "      <td>0.691145</td>\n",
       "      <td>0.702128</td>\n",
       "      <td>0.756303</td>\n",
       "      <td>0.711018</td>\n",
       "      <td>0.024846</td>\n",
       "      <td>-2147483648</td>\n",
       "    </tr>\n",
       "    <tr>\n",
       "      <th>661</th>\n",
       "      <td>0.085813</td>\n",
       "      <td>0.011152</td>\n",
       "      <td>0.016413</td>\n",
       "      <td>0.000429</td>\n",
       "      <td>MinMaxScaler()</td>\n",
       "      <td>1</td>\n",
       "      <td>11</td>\n",
       "      <td>87</td>\n",
       "      <td>81</td>\n",
       "      <td>auto</td>\n",
       "      <td>65</td>\n",
       "      <td>RandomOverSampler(random_state=0)</td>\n",
       "      <td>{'transformer__pipe_impute_robust__scaler': Mi...</td>\n",
       "      <td>0.724638</td>\n",
       "      <td>0.643154</td>\n",
       "      <td>0.684211</td>\n",
       "      <td>0.663900</td>\n",
       "      <td>0.670860</td>\n",
       "      <td>0.677352</td>\n",
       "      <td>0.027113</td>\n",
       "      <td>-2147483648</td>\n",
       "    </tr>\n",
       "  </tbody>\n",
       "</table>\n",
       "</div>"
      ],
      "text/plain": [
       "     mean_fit_time  std_fit_time  mean_score_time  std_score_time  \\\n",
       "0         0.096263      0.000123         0.018835        0.003203   \n",
       "658       0.063998      0.007486         0.015428        0.004581   \n",
       "659       0.579087      0.039531         0.035633        0.003491   \n",
       "660       0.566013      0.027530         0.034406        0.001372   \n",
       "661       0.085813      0.011152         0.016413        0.000429   \n",
       "\n",
       "    param_transformer__pipe_impute_robust__scaler  \\\n",
       "0                                  MinMaxScaler()   \n",
       "658                                MinMaxScaler()   \n",
       "659                                RobustScaler()   \n",
       "660                                RobustScaler()   \n",
       "661                                MinMaxScaler()   \n",
       "\n",
       "    param_transformer__pipe_impute_robust__poly__degree  \\\n",
       "0                                                    3    \n",
       "658                                                  2    \n",
       "659                                                  2    \n",
       "660                                                  1    \n",
       "661                                                  1    \n",
       "\n",
       "    param_model__n_estimators param_model__min_samples_split  \\\n",
       "0                          21                             89   \n",
       "658                         5                             43   \n",
       "659                        81                             99   \n",
       "660                        89                             97   \n",
       "661                        11                             87   \n",
       "\n",
       "    param_model__min_samples_leaf param_model__max_features  \\\n",
       "0                              35                      auto   \n",
       "658                            21                      auto   \n",
       "659                            27                      auto   \n",
       "660                             7                      auto   \n",
       "661                            81                      auto   \n",
       "\n",
       "    param_model__max_depth                     param_balancing  \\\n",
       "0                       25  RandomUnderSampler(random_state=0)   \n",
       "658                     23                                None   \n",
       "659                     51                                None   \n",
       "660                     45               SMOTE(random_state=0)   \n",
       "661                     65   RandomOverSampler(random_state=0)   \n",
       "\n",
       "                                                params  split0_test_score  \\\n",
       "0    {'transformer__pipe_impute_robust__scaler': Mi...           0.680851   \n",
       "658  {'transformer__pipe_impute_robust__scaler': Mi...           0.744235   \n",
       "659  {'transformer__pipe_impute_robust__scaler': Ro...           0.721868   \n",
       "660  {'transformer__pipe_impute_robust__scaler': Ro...           0.717345   \n",
       "661  {'transformer__pipe_impute_robust__scaler': Mi...           0.724638   \n",
       "\n",
       "     split1_test_score  split2_test_score  split3_test_score  \\\n",
       "0             0.630252           0.676533           0.655391   \n",
       "658           0.670860           0.712766           0.685654   \n",
       "659           0.637149           0.694143           0.689278   \n",
       "660           0.688172           0.691145           0.702128   \n",
       "661           0.643154           0.684211           0.663900   \n",
       "\n",
       "     split4_test_score  mean_test_score  std_test_score  rank_test_score  \n",
       "0             0.625000         0.653605        0.022956      -2147483648  \n",
       "658           0.700637         0.702830        0.025040      -2147483648  \n",
       "659           0.700837         0.688655        0.028053      -2147483648  \n",
       "660           0.756303         0.711018        0.024846      -2147483648  \n",
       "661           0.670860         0.677352        0.027113      -2147483648  "
      ]
     },
     "execution_count": 40,
     "metadata": {},
     "output_type": "execute_result"
    }
   ],
   "source": [
    "# create dataframe\n",
    "pd.DataFrame(random_rf.cv_results_).sort_values(by='rank_test_score').head()"
   ]
  },
  {
   "cell_type": "code",
   "execution_count": 41,
   "metadata": {},
   "outputs": [
    {
     "name": "stdout",
     "output_type": "stream",
     "text": [
      "Random Forest\n",
      "Best_score: 0.6536054109467097\n",
      "Best_params: {'transformer__pipe_impute_robust__scaler': MinMaxScaler(), 'transformer__pipe_impute_robust__poly__degree': 3, 'model__n_estimators': 21, 'model__min_samples_split': 89, 'model__min_samples_leaf': 35, 'model__max_features': 'auto', 'model__max_depth': 25, 'balancing': RandomUnderSampler(random_state=0)}\n"
     ]
    }
   ],
   "source": [
    "print('Random Forest')\n",
    "print('Best_score:', random_rf.best_score_)\n",
    "print('Best_params:', random_rf.best_params_)"
   ]
  },
  {
   "attachments": {},
   "cell_type": "markdown",
   "metadata": {},
   "source": [
    "Tuning Kedua"
   ]
  },
  {
   "cell_type": "code",
   "execution_count": 42,
   "metadata": {},
   "outputs": [],
   "source": [
    "# Hyperparam space Random Forest\n",
    "hyperparam_space_rf = {\n",
    "    'balancing':[smote, rus, ros, None],\n",
    "    'model__max_depth': list(np.arange(15,80,1)), \n",
    "    'model__n_estimators': list(np.arange(1,100,1)),\n",
    "    'model__max_features': ['auto'],\n",
    "    'model__min_samples_leaf': list(np.arange(1,85,1)),\n",
    "    'model__min_samples_split': list(np.arange(35,120,1)),\n",
    "    'transformer__pipe_impute_robust__scaler': [MinMaxScaler(), RobustScaler()],\n",
    "    'transformer__pipe_impute_robust__poly__degree': [1,2,3]\n",
    "}"
   ]
  },
  {
   "cell_type": "code",
   "execution_count": 43,
   "metadata": {},
   "outputs": [],
   "source": [
    "# Benchmark model 2\n",
    "rf = RandomForestClassifier(random_state=0, class_weight='balanced') \n",
    "\n",
    "# Create the algorithm chains\n",
    "pipe_model = Pipeline([\n",
    "        ('transformer', transformer),\n",
    "        ('balancing', smote), \n",
    "        ('model', rf)\n",
    "        ])\n",
    "\n",
    "# Hyperparameter tuning\n",
    "random_rf = RandomizedSearchCV(\n",
    "    estimator = pipe_model, \n",
    "    param_distributions = hyperparam_space_rf, \n",
    "    cv = 5, \n",
    "    scoring = f2_score, \n",
    "    n_jobs = -1,  \n",
    "    random_state=0,\n",
    "    n_iter= 1000\n",
    ")"
   ]
  },
  {
   "cell_type": "code",
   "execution_count": 44,
   "metadata": {},
   "outputs": [
    {
     "data": {
      "text/plain": [
       "RandomizedSearchCV(cv=5,\n",
       "                   estimator=Pipeline(steps=[('transformer',\n",
       "                                              ColumnTransformer(remainder='passthrough',\n",
       "                                                                transformers=[('pipe_impute_robust',\n",
       "                                                                               Pipeline(steps=[('median',\n",
       "                                                                                                SimpleImputer(strategy='median')),\n",
       "                                                                                               ('poly',\n",
       "                                                                                                PolynomialFeatures()),\n",
       "                                                                                               ('scaler',\n",
       "                                                                                                RobustScaler())]),\n",
       "                                                                               ['Tenure',\n",
       "                                                                                'WarehouseToHome',\n",
       "                                                                                'NumberOfDeviceRegistered',\n",
       "                                                                                'SatisfactionScore',\n",
       "                                                                                'NumberOfAddre...\n",
       "                                                                     47, 48, 49,\n",
       "                                                                     50, 51, 52,\n",
       "                                                                     53, 54, 55,\n",
       "                                                                     56, 57, 58,\n",
       "                                                                     59, 60, 61,\n",
       "                                                                     62, 63, 64, ...],\n",
       "                                        'model__n_estimators': [1, 2, 3, 4, 5,\n",
       "                                                                6, 7, 8, 9, 10,\n",
       "                                                                11, 12, 13, 14,\n",
       "                                                                15, 16, 17, 18,\n",
       "                                                                19, 20, 21, 22,\n",
       "                                                                23, 24, 25, 26,\n",
       "                                                                27, 28, 29, 30, ...],\n",
       "                                        'transformer__pipe_impute_robust__poly__degree': [1,\n",
       "                                                                                          2,\n",
       "                                                                                          3],\n",
       "                                        'transformer__pipe_impute_robust__scaler': [MinMaxScaler(),\n",
       "                                                                                    RobustScaler()]},\n",
       "                   random_state=0, scoring=make_scorer(fbeta_score, beta=2))"
      ]
     },
     "execution_count": 44,
     "metadata": {},
     "output_type": "execute_result"
    }
   ],
   "source": [
    "# fitting\n",
    "random_rf.fit(X_train, y_train)"
   ]
  },
  {
   "cell_type": "code",
   "execution_count": 45,
   "metadata": {},
   "outputs": [
    {
     "data": {
      "text/html": [
       "<div>\n",
       "<style scoped>\n",
       "    .dataframe tbody tr th:only-of-type {\n",
       "        vertical-align: middle;\n",
       "    }\n",
       "\n",
       "    .dataframe tbody tr th {\n",
       "        vertical-align: top;\n",
       "    }\n",
       "\n",
       "    .dataframe thead th {\n",
       "        text-align: right;\n",
       "    }\n",
       "</style>\n",
       "<table border=\"1\" class=\"dataframe\">\n",
       "  <thead>\n",
       "    <tr style=\"text-align: right;\">\n",
       "      <th></th>\n",
       "      <th>mean_fit_time</th>\n",
       "      <th>std_fit_time</th>\n",
       "      <th>mean_score_time</th>\n",
       "      <th>std_score_time</th>\n",
       "      <th>param_transformer__pipe_impute_robust__scaler</th>\n",
       "      <th>param_transformer__pipe_impute_robust__poly__degree</th>\n",
       "      <th>param_model__n_estimators</th>\n",
       "      <th>param_model__min_samples_split</th>\n",
       "      <th>param_model__min_samples_leaf</th>\n",
       "      <th>param_model__max_features</th>\n",
       "      <th>param_model__max_depth</th>\n",
       "      <th>param_balancing</th>\n",
       "      <th>params</th>\n",
       "      <th>split0_test_score</th>\n",
       "      <th>split1_test_score</th>\n",
       "      <th>split2_test_score</th>\n",
       "      <th>split3_test_score</th>\n",
       "      <th>split4_test_score</th>\n",
       "      <th>mean_test_score</th>\n",
       "      <th>std_test_score</th>\n",
       "      <th>rank_test_score</th>\n",
       "    </tr>\n",
       "  </thead>\n",
       "  <tbody>\n",
       "    <tr>\n",
       "      <th>57</th>\n",
       "      <td>0.393026</td>\n",
       "      <td>0.030336</td>\n",
       "      <td>0.032621</td>\n",
       "      <td>0.009022</td>\n",
       "      <td>MinMaxScaler()</td>\n",
       "      <td>1</td>\n",
       "      <td>69</td>\n",
       "      <td>57</td>\n",
       "      <td>5</td>\n",
       "      <td>auto</td>\n",
       "      <td>40</td>\n",
       "      <td>RandomOverSampler(random_state=0)</td>\n",
       "      <td>{'transformer__pipe_impute_robust__scaler': Mi...</td>\n",
       "      <td>0.778252</td>\n",
       "      <td>0.718816</td>\n",
       "      <td>0.741935</td>\n",
       "      <td>0.752688</td>\n",
       "      <td>0.759494</td>\n",
       "      <td>0.750237</td>\n",
       "      <td>0.019661</td>\n",
       "      <td>1</td>\n",
       "    </tr>\n",
       "    <tr>\n",
       "      <th>884</th>\n",
       "      <td>0.475377</td>\n",
       "      <td>0.008045</td>\n",
       "      <td>0.036568</td>\n",
       "      <td>0.004980</td>\n",
       "      <td>MinMaxScaler()</td>\n",
       "      <td>1</td>\n",
       "      <td>89</td>\n",
       "      <td>41</td>\n",
       "      <td>9</td>\n",
       "      <td>auto</td>\n",
       "      <td>27</td>\n",
       "      <td>RandomOverSampler(random_state=0)</td>\n",
       "      <td>{'transformer__pipe_impute_robust__scaler': Mi...</td>\n",
       "      <td>0.783262</td>\n",
       "      <td>0.717345</td>\n",
       "      <td>0.725108</td>\n",
       "      <td>0.737527</td>\n",
       "      <td>0.769231</td>\n",
       "      <td>0.746495</td>\n",
       "      <td>0.025520</td>\n",
       "      <td>2</td>\n",
       "    </tr>\n",
       "    <tr>\n",
       "      <th>866</th>\n",
       "      <td>0.215586</td>\n",
       "      <td>0.012702</td>\n",
       "      <td>0.023352</td>\n",
       "      <td>0.001245</td>\n",
       "      <td>MinMaxScaler()</td>\n",
       "      <td>1</td>\n",
       "      <td>38</td>\n",
       "      <td>54</td>\n",
       "      <td>13</td>\n",
       "      <td>auto</td>\n",
       "      <td>60</td>\n",
       "      <td>RandomOverSampler(random_state=0)</td>\n",
       "      <td>{'transformer__pipe_impute_robust__scaler': Mi...</td>\n",
       "      <td>0.762004</td>\n",
       "      <td>0.702128</td>\n",
       "      <td>0.731183</td>\n",
       "      <td>0.748945</td>\n",
       "      <td>0.741525</td>\n",
       "      <td>0.737157</td>\n",
       "      <td>0.020190</td>\n",
       "      <td>3</td>\n",
       "    </tr>\n",
       "    <tr>\n",
       "      <th>750</th>\n",
       "      <td>0.440504</td>\n",
       "      <td>0.018695</td>\n",
       "      <td>0.041673</td>\n",
       "      <td>0.004262</td>\n",
       "      <td>MinMaxScaler()</td>\n",
       "      <td>1</td>\n",
       "      <td>99</td>\n",
       "      <td>37</td>\n",
       "      <td>6</td>\n",
       "      <td>auto</td>\n",
       "      <td>23</td>\n",
       "      <td>None</td>\n",
       "      <td>{'transformer__pipe_impute_robust__scaler': Mi...</td>\n",
       "      <td>0.750529</td>\n",
       "      <td>0.715789</td>\n",
       "      <td>0.720430</td>\n",
       "      <td>0.761803</td>\n",
       "      <td>0.736515</td>\n",
       "      <td>0.737013</td>\n",
       "      <td>0.017452</td>\n",
       "      <td>4</td>\n",
       "    </tr>\n",
       "    <tr>\n",
       "      <th>926</th>\n",
       "      <td>0.426651</td>\n",
       "      <td>0.012012</td>\n",
       "      <td>0.032463</td>\n",
       "      <td>0.006138</td>\n",
       "      <td>RobustScaler()</td>\n",
       "      <td>1</td>\n",
       "      <td>81</td>\n",
       "      <td>54</td>\n",
       "      <td>25</td>\n",
       "      <td>auto</td>\n",
       "      <td>46</td>\n",
       "      <td>RandomOverSampler(random_state=0)</td>\n",
       "      <td>{'transformer__pipe_impute_robust__scaler': Ro...</td>\n",
       "      <td>0.758836</td>\n",
       "      <td>0.703782</td>\n",
       "      <td>0.723542</td>\n",
       "      <td>0.742678</td>\n",
       "      <td>0.751566</td>\n",
       "      <td>0.736081</td>\n",
       "      <td>0.020008</td>\n",
       "      <td>5</td>\n",
       "    </tr>\n",
       "  </tbody>\n",
       "</table>\n",
       "</div>"
      ],
      "text/plain": [
       "     mean_fit_time  std_fit_time  mean_score_time  std_score_time  \\\n",
       "57        0.393026      0.030336         0.032621        0.009022   \n",
       "884       0.475377      0.008045         0.036568        0.004980   \n",
       "866       0.215586      0.012702         0.023352        0.001245   \n",
       "750       0.440504      0.018695         0.041673        0.004262   \n",
       "926       0.426651      0.012012         0.032463        0.006138   \n",
       "\n",
       "    param_transformer__pipe_impute_robust__scaler  \\\n",
       "57                                 MinMaxScaler()   \n",
       "884                                MinMaxScaler()   \n",
       "866                                MinMaxScaler()   \n",
       "750                                MinMaxScaler()   \n",
       "926                                RobustScaler()   \n",
       "\n",
       "    param_transformer__pipe_impute_robust__poly__degree  \\\n",
       "57                                                   1    \n",
       "884                                                  1    \n",
       "866                                                  1    \n",
       "750                                                  1    \n",
       "926                                                  1    \n",
       "\n",
       "    param_model__n_estimators param_model__min_samples_split  \\\n",
       "57                         69                             57   \n",
       "884                        89                             41   \n",
       "866                        38                             54   \n",
       "750                        99                             37   \n",
       "926                        81                             54   \n",
       "\n",
       "    param_model__min_samples_leaf param_model__max_features  \\\n",
       "57                              5                      auto   \n",
       "884                             9                      auto   \n",
       "866                            13                      auto   \n",
       "750                             6                      auto   \n",
       "926                            25                      auto   \n",
       "\n",
       "    param_model__max_depth                    param_balancing  \\\n",
       "57                      40  RandomOverSampler(random_state=0)   \n",
       "884                     27  RandomOverSampler(random_state=0)   \n",
       "866                     60  RandomOverSampler(random_state=0)   \n",
       "750                     23                               None   \n",
       "926                     46  RandomOverSampler(random_state=0)   \n",
       "\n",
       "                                                params  split0_test_score  \\\n",
       "57   {'transformer__pipe_impute_robust__scaler': Mi...           0.778252   \n",
       "884  {'transformer__pipe_impute_robust__scaler': Mi...           0.783262   \n",
       "866  {'transformer__pipe_impute_robust__scaler': Mi...           0.762004   \n",
       "750  {'transformer__pipe_impute_robust__scaler': Mi...           0.750529   \n",
       "926  {'transformer__pipe_impute_robust__scaler': Ro...           0.758836   \n",
       "\n",
       "     split1_test_score  split2_test_score  split3_test_score  \\\n",
       "57            0.718816           0.741935           0.752688   \n",
       "884           0.717345           0.725108           0.737527   \n",
       "866           0.702128           0.731183           0.748945   \n",
       "750           0.715789           0.720430           0.761803   \n",
       "926           0.703782           0.723542           0.742678   \n",
       "\n",
       "     split4_test_score  mean_test_score  std_test_score  rank_test_score  \n",
       "57            0.759494         0.750237        0.019661                1  \n",
       "884           0.769231         0.746495        0.025520                2  \n",
       "866           0.741525         0.737157        0.020190                3  \n",
       "750           0.736515         0.737013        0.017452                4  \n",
       "926           0.751566         0.736081        0.020008                5  "
      ]
     },
     "execution_count": 45,
     "metadata": {},
     "output_type": "execute_result"
    }
   ],
   "source": [
    "# create dataframe\n",
    "pd.DataFrame(random_rf.cv_results_).sort_values(by='rank_test_score').head()"
   ]
  },
  {
   "cell_type": "code",
   "execution_count": 46,
   "metadata": {},
   "outputs": [
    {
     "name": "stdout",
     "output_type": "stream",
     "text": [
      "Random Forest\n",
      "Best_score: 0.7502369987200906\n",
      "Best_params: {'transformer__pipe_impute_robust__scaler': MinMaxScaler(), 'transformer__pipe_impute_robust__poly__degree': 1, 'model__n_estimators': 69, 'model__min_samples_split': 57, 'model__min_samples_leaf': 5, 'model__max_features': 'auto', 'model__max_depth': 40, 'balancing': RandomOverSampler(random_state=0)}\n"
     ]
    }
   ],
   "source": [
    "print('Random Forest')\n",
    "print('Best_score:', random_rf.best_score_)\n",
    "print('Best_params:', random_rf.best_params_)"
   ]
  },
  {
   "attachments": {},
   "cell_type": "markdown",
   "metadata": {},
   "source": [
    "Algoritma Random Forest dilakukan tuning sebanyak 2 kali. Tuning pertama berhasil meningkatkan best score model dari model yang dibuat sebelum dilakukan tuning. Tuning kedua dilakukan dengan mempersempit range dari parameter yang ada, dan ternyata berhasil meningkatkan best score dari hasil tuning pertama."
   ]
  },
  {
   "attachments": {},
   "cell_type": "markdown",
   "metadata": {},
   "source": [
    "### Best Model"
   ]
  },
  {
   "attachments": {},
   "cell_type": "markdown",
   "metadata": {},
   "source": [
    "Perbandingan best score XGBoost dan Random Forest, sebelum dan setelah tuning :"
   ]
  },
  {
   "cell_type": "code",
   "execution_count": 47,
   "metadata": {},
   "outputs": [
    {
     "name": "stdout",
     "output_type": "stream",
     "text": [
      "0.7029514708324666 XGBoost Benchmark\n",
      "0.7780544457350247 XGBoost Tuning\n",
      "0.7005077951092336 Random Forest Benchmark\n",
      "0.7502369987200906 Random Forest Tuning\n"
     ]
    }
   ],
   "source": [
    "print(df_cv[df_cv['model']=='xgbc']['mean'].values[0], 'XGBoost Benchmark')\n",
    "print(random_xgbc.best_score_, 'XGBoost Tuning')\n",
    "\n",
    "print(df_cv[df_cv['model']=='rf']['mean'].values[0], 'Random Forest Benchmark')\n",
    "print(random_rf.best_score_, 'Random Forest Tuning')"
   ]
  },
  {
   "attachments": {},
   "cell_type": "markdown",
   "metadata": {},
   "source": [
    "Berdasarkan dari dua algoritma yang sudah dilakukan tuning, ternyata setelah dilakukan tuning dua kali, algoritma XGBoost memiliki best score yang lebih tinggi dibandingkan dengan algoritma Random Forest. Oleh karena itu, kita akan lanjut ke proses modeling ke test set dengan menggunakan algoritma `XGBoost`.\n",
    "\n",
    "Parameter terbaik XGBoost dengan tuning kedua :\n",
    "- transformer__pipe_impute_robust__scaler : StandardScaler()\n",
    "- transformer__pipe_impute_robust__poly__degree : 1\n",
    "- model__subsample : 0.9500000000000004\n",
    "- model__n_estimators : 78\n",
    "- model__max_depth : 105\n",
    "- model__learning_rate : 0.3500000000000001\n",
    "- model__colsample_bytree : 0.7000000000000002\n",
    "- balancing : RandomUnderSampler(random_state=0)\n"
   ]
  },
  {
   "attachments": {},
   "cell_type": "markdown",
   "metadata": {},
   "source": [
    "---\n",
    "## **Performance in Test Set**"
   ]
  },
  {
   "attachments": {},
   "cell_type": "markdown",
   "metadata": {},
   "source": [
    "XGBoost (Extreme Gradient Boosting) merupakan algoritma machine learning populer yang digunakan untuk masalah klasifikasi, regresi, dan ranking. XGBoost adalah library gradient boosting yang dioptimalkan dan dirancang untuk efisien, fleksibel, dan mudah dipindahkan.\n",
    "\n",
    "XGBoost adalah tipe model ensemble yang menggunakan kombinasi dari model yang lemah untuk membuat model yang kuat. Model yang lemah biasanya berupa decision tree, yang dibuat secara berurutan dalam proses yang disebut boosting. Selama boosting, setiap tree baru mencoba untuk memperbaiki kesalahan dari tree sebelumnya, sehingga model secara bertahap menjadi lebih akurat.\n",
    "\n",
    "Berikut adalah cara kerja XGBoost untuk klasifikasi:\n",
    "\n",
    "- Persiapan data: XGBoost memerlukan data input dalam format tertentu. Data harus dalam format matriks, di mana setiap baris mewakili sebuah instance dan setiap kolom mewakili sebuah fitur. Variable target harus berupa variabel biner atau kategori.\n",
    "\n",
    "- Model awal: Decision tree pertama dibuat menggunakan data latih. Tree ini dikenal sebagai model dasar.\n",
    "\n",
    "- Perhitungan residual: Residual dihitung dengan mengurangi nilai target yang diprediksi dari nilai target yang sebenarnya. Residual ini digunakan sebagai variable target untuk decision tree berikutnya.\n",
    "\n",
    "- Gradient boosting: Decision tree berikutnya dibuat untuk memperbaiki kesalahan dari decision tree sebelumnya. Tree baru dilatih pada residual dari tree sebelumnya.\n",
    "\n",
    "- Tree pruning: Decision tree dipangkas untuk mencegah overfitting. Ini dilakukan dengan menetapkan jumlah sampel minimum yang diperlukan di node daun.\n",
    "\n",
    "- Prediksi: Setelah semua decision tree dibuat, prediksi akhir dilakukan dengan menambahkan prediksi dari semua tree. Nilai yang diprediksi adalah kelas dengan probabilitas tertinggi.\n",
    "\n",
    "- Regularisasi: XGBoost menggunakan teknik regularisasi untuk mencegah overfitting. Term regularisasi ditambahkan ke fungsi objektif yang sedang dioptimalkan.\n",
    "\n",
    "- Penyetelan Hyperparameter: XGBoost memiliki banyak hyperparameter yang dapat disesuaikan untuk meningkatkan performa model. Hyperparameter ini termasuk learning rate, number of trees, maximum depth of the trees, minimum number of samples required to be at a leaf node, dan masih banyak lagi.\n",
    "\n",
    "- XGBoost dikenal karena kecepatan dan akurasinya, dan telah memenangkan beberapa kompetisi machine learning."
   ]
  },
  {
   "attachments": {},
   "cell_type": "markdown",
   "metadata": {},
   "source": [
    "Hyperparameter yang dilakukan tuning di atas yaitu:\n",
    "\n",
    "- max_depth: Menentukan kedalaman maksimum setiap pohon. Semakin besar nilai ini, semakin kompleks modelnya dan semakin lama waktu trainingnya. Namun, nilai yang terlalu kecil dapat mengakibatkan overfitting.\n",
    "\n",
    "- learning_rate: Menentukan seberapa cepat model belajar. Semakin kecil nilai ini, semakin lambat model belajar dan semakin akurat hasilnya. Namun, semakin kecil nilai ini, semakin lama waktu training.\n",
    "\n",
    "- n_estimators: Jumlah tree (pohon) yang akan dibuat dalam algoritma. Semakin besar nilai ini, semakin kompleks modelnya dan semakin lama waktu trainingnya.\n",
    "\n",
    "- subsample: Menentukan proporsi sampel data yang digunakan untuk setiap tree. Semakin kecil nilai ini, semakin sedikit data yang digunakan, dan semakin cepat waktu training. Namun, semakin kecil nilai ini, semakin besar kemungkinan overfitting.\n",
    "\n",
    "- colsample_bytree: Menentukan proporsi fitur (kolom) yang digunakan untuk setiap tree. Semakin kecil nilai ini, semakin sedikit fitur yang digunakan, dan semakin cepat waktu training. Namun, semakin kecil nilai ini, semakin besar kemungkinan underfitting."
   ]
  },
  {
   "attachments": {},
   "cell_type": "markdown",
   "metadata": {},
   "source": [
    "### Before Hyperparameter Tuning"
   ]
  },
  {
   "cell_type": "code",
   "execution_count": 48,
   "metadata": {},
   "outputs": [
    {
     "data": {
      "text/plain": [
       "0.707635009310987"
      ]
     },
     "execution_count": 48,
     "metadata": {},
     "output_type": "execute_result"
    }
   ],
   "source": [
    "model= XGBClassifier(random_state=0, verbosity=0, class_weight='balanced')\n",
    "\n",
    "model_pipe = Pipeline([\n",
    "    ('transformer', transformer),\n",
    "    ('resampler', smote),\n",
    "    ('model', model)\n",
    "])\n",
    "\n",
    "# fitting\n",
    "model_pipe.fit(X_train, y_train)\n",
    "\n",
    "# predict\n",
    "y_pred = model_pipe.predict(X_test)\n",
    "\n",
    "# f2 score score\n",
    "f2score_xgbc_benchmark = fbeta_score(y_test, y_pred, beta=2)\n",
    "f2score_xgbc_benchmark"
   ]
  },
  {
   "cell_type": "markdown",
   "metadata": {},
   "source": [
    "### After Hyperparameter Tuning"
   ]
  },
  {
   "cell_type": "code",
   "execution_count": 49,
   "metadata": {},
   "outputs": [
    {
     "data": {
      "text/plain": [
       "0.7894736842105262"
      ]
     },
     "execution_count": 49,
     "metadata": {},
     "output_type": "execute_result"
    }
   ],
   "source": [
    "# best model\n",
    "xgbc_tuning = random_xgbc.best_estimator_\n",
    "\n",
    "# fitting\n",
    "xgbc_tuning.fit(X_train, y_train)\n",
    "\n",
    "# predict\n",
    "y_pred_xgbc_tuning = xgbc_tuning.predict(X_test)\n",
    "\n",
    "# f2 score\n",
    "f2score_xgbc_tuning = fbeta_score(y_test, y_pred_xgbc_tuning, beta=2)\n",
    "f2score_xgbc_tuning"
   ]
  },
  {
   "cell_type": "code",
   "execution_count": 50,
   "metadata": {},
   "outputs": [
    {
     "name": "stdout",
     "output_type": "stream",
     "text": [
      "0.707635009310987 XGboost Benchmark\n",
      "0.7894736842105262 XGboost Tuning\n"
     ]
    }
   ],
   "source": [
    "print(f2score_xgbc_benchmark, 'XGboost Benchmark')\n",
    "print(f2score_xgbc_tuning, 'XGboost Tuning')"
   ]
  },
  {
   "attachments": {},
   "cell_type": "markdown",
   "metadata": {},
   "source": [
    "### Confusion Matrix"
   ]
  },
  {
   "cell_type": "code",
   "execution_count": 51,
   "metadata": {},
   "outputs": [
    {
     "data": {
      "image/png": "[encoded data removed]",
      "text/plain": [
       "<Figure size 1200x400 with 4 Axes>"
      ]
     },
     "metadata": {},
     "output_type": "display_data"
    }
   ],
   "source": [
    "plt.figure(figsize=(12,4))\n",
    "\n",
    "# Model XGBoost before tuning\n",
    "plt.subplot(1,2,1)\n",
    "sns.heatmap(confusion_matrix(y_test, y_pred), annot=True, fmt='.0f', square=True)\n",
    "plt.xlabel('y Prediksi')\n",
    "plt.ylabel('y Aktual')\n",
    "plt.title('XGBoost before tuning')\n",
    "\n",
    "# Model XGBoost after tuning\n",
    "plt.subplot(1,2,2)\n",
    "sns.heatmap(confusion_matrix(y_test, y_pred_xgbc_tuning), annot=True, fmt='.0f', square=True)\n",
    "plt.xlabel('y Prediksi')\n",
    "plt.ylabel('y Aktual')\n",
    "plt.title('XGBoost after tuning');"
   ]
  },
  {
   "attachments": {},
   "cell_type": "markdown",
   "metadata": {},
   "source": [
    "Tujuan dari project ini adalah untuk mengetahui prediksi seorang customer apakah akan melakukan churn atau tidak menggunakan jasa perusahaan e-commerce ini lagi. Berdasarkan business problem di atas, diketahui bahwa:\n",
    "\n",
    "- Model memiliki kemungkinan prediksi yang benar untuk pelanggan yang churn dan tidak churn ((TP+TN)/total) sebesar 85.47%\n",
    "- Model memiliki kemungkinan prediksi benar untuk pelanggan yang churn (TP/(TP+FN)) sebesar 89.71%\n",
    "- Error Rate pada model ini sebesar 14.52%\n",
    "\n",
    "**Type 1 error**: False Positive \n",
    "- Action: Memberikan promosi dengan perkiraan cost sebesar *$150* per capita per tahun.\n",
    "- Konsekuensi: Memberikan promo pada target yang salah, sehingga perusahaan mengeluarkan biaya yang tidak tepat\n",
    "\n",
    " **Type 2 error**: False Negative\n",
    "- Action: Tidak memberi perhatian pada customer ini yang kita prediksi tidak akan melakukan churn, dan dapat memberikan profit kepada perusahan dengan perkiraan cost *$600* per capita per tahun.\n",
    "- Konsekuensi: Perusahaan mengalami kerugian karena kehilangan customer yang memberikan profit bagi perusahaan\n",
    "<br>\n",
    "<br>\n",
    "- Cost FP : $ 150\n",
    "- Cost FN : $ 600\n",
    "\n",
    "**TANPA MENGGUNAKAN MACHINE LEARNING**\n",
    "\n",
    "Perusahaan e-commerce tidak dapat mengetahui customer yang akan melakukan churn, sehingga perusahaan e-commerce harus memberikan promosi ke semua customer, agar perusahaan tidak kehilangan customer. Ini menyebabkan perusahaan e-commerce harus mengeluarkan biaya yang besar dalam mengimplentasikan strategi promosinya. \n",
    "\n",
    "- Pengeluaran perusahaan untuk promosi (TP+FP+TN+FN): $150 x 654 = $98,100\n",
    "- Promosi yang tepat sasaran pada orang yang churn (TP+FN): $150 X 107 = $16,060\n",
    "\n",
    "Sehingga diketahui bahwa perusahaan e-commerce mengeluarkan biaya yang tidak tepat sasaran (biaya promosi untuk customer yang loyal) sebesar: $98,100 - $16,060 = `$82,040`. Biaya tersebut seharusnya dapat ditekan jika menggunakan Machine Learning\n",
    "\n",
    "**DENGAN MENGGUNAKAN MACHINE LEARNING**\n",
    "\n",
    "Biaya yang tidak tepat sasaran di atas, dapat ditekan jika menggunakan Machine Learning, dengan memprediksi customer yang akan melakukan churn. Sehingga biaya promosi dapat difokuskan kepada customer yang akan melakukan churn, berdasarkan dari hasil prediksi dari Machine Learning.\n",
    "\n",
    "- Pengeluaran perusahaan e-commerce karena salah promosi ke customer loyal (FP): $150 x 84 = $12,600\n",
    "- Perusahaan e-commerce kehilangan customer karena tidak terprediksi akan churn (FN): $600 X 11 = $6,600\n",
    "\n",
    "Sehingga diketahui bahwa perusahaan e-commerce mengalami kerugian sebesar: $12,600 + $6,600 = `$19,200`\n",
    "\n",
    "**KERUGIAN MENURUN SETELAH PAKAI MACHINE LEARNING**\n",
    "\n",
    "- Kerugian sebelum pakai ML: $82,040\n",
    "- Kerugian setelah pakai ML: $19,200\n",
    "\n",
    "Dapat disimpulkan bahwa Machine Learning dengan menggunakan algoritma XGBoost setelah tuning dua kali berhasil menurunkan kerugian perusahaan sebesar `76.59%` --> (($82,040 - $19,200) / $82,040)\n"
   ]
  },
  {
   "attachments": {},
   "cell_type": "markdown",
   "metadata": {},
   "source": [
    "---\n",
    "## **Summary**"
   ]
  },
  {
   "attachments": {},
   "cell_type": "markdown",
   "metadata": {},
   "source": [
    "Berdasarkan modeling menggunakan algoritma XGBoost:\n",
    "\n",
    "- Train Set:\n",
    "   - Before tuning: 0.70\n",
    "   - After tuning: 0.77\n",
    "\n",
    "- Test Set:\n",
    "   - Before tuning: 0.70\n",
    "   - After tuning: 0.78\n",
    "\n",
    "\n",
    "Hyperparameter tuning berhasil meningkatkan F2 Score pada test set dari model dengan XGBoost sebesar 0.08. \n",
    "Performa model sebesar 0.78 sudah cukup bagus karena f2 score pada train set dan test set tidak jauh berbeda dan jumlah False Negative sebesar 10% dari total kelas 1 (Churn). "
   ]
  },
  {
   "attachments": {},
   "cell_type": "markdown",
   "metadata": {},
   "source": [
    "---\n",
    "## **Explainable Machine Learning**"
   ]
  },
  {
   "attachments": {},
   "cell_type": "markdown",
   "metadata": {},
   "source": [
    "### Feature Importance"
   ]
  },
  {
   "cell_type": "code",
   "execution_count": 52,
   "metadata": {},
   "outputs": [
    {
     "data": {
      "text/plain": [
       "array([0.        , 0.18643306, 0.04730441, 0.03666269, 0.04375068,\n",
       "       0.0632892 , 0.06057208, 0.0480593 , 0.03314517, 0.04618186,\n",
       "       0.14539906, 0.01099807, 0.07325104, 0.05902387, 0.14592943],\n",
       "      dtype=float32)"
      ]
     },
     "execution_count": 52,
     "metadata": {},
     "output_type": "execute_result"
    }
   ],
   "source": [
    "# melihat nilai dari features importance\n",
    "xgbc_tuning['model'].feature_importances_"
   ]
  },
  {
   "cell_type": "code",
   "execution_count": 53,
   "metadata": {},
   "outputs": [
    {
     "data": {
      "text/plain": [
       "array(['1', 'x0', 'x1', 'x2', 'x3', 'x4', 'x5', 'x6'], dtype=object)"
      ]
     },
     "execution_count": 53,
     "metadata": {},
     "output_type": "execute_result"
    }
   ],
   "source": [
    "# terdapat konstanta = 1 hasil dari polynomial\n",
    "xgbc_tuning['transformer'].transformers_[0][1][1].get_feature_names_out()"
   ]
  },
  {
   "cell_type": "code",
   "execution_count": 54,
   "metadata": {},
   "outputs": [
    {
     "data": {
      "text/plain": [
       "[1,\n",
       " 'Tenure',\n",
       " 'WarehouseToHome',\n",
       " 'NumberOfDeviceRegistered',\n",
       " 'SatisfactionScore',\n",
       " 'NumberOfAddress',\n",
       " 'DaySinceLastOrder',\n",
       " 'CashbackAmount',\n",
       " 'PreferedOrderCat_Grocery',\n",
       " 'PreferedOrderCat_Laptop & Accessory',\n",
       " 'PreferedOrderCat_Mobile Phone',\n",
       " 'PreferedOrderCat_Others',\n",
       " 'MaritalStatus_Married',\n",
       " 'MaritalStatus_Single',\n",
       " 'Complain']"
      ]
     },
     "execution_count": 54,
     "metadata": {},
     "output_type": "execute_result"
    }
   ],
   "source": [
    "# nama features berdasarkan urutan dari proses transform\n",
    "feat_scale = xgbc_tuning['transformer'].transformers_[0][2]\n",
    "feat_onehot = list(xgbc_tuning['transformer'].transformers_[1][1].get_feature_names_out())\n",
    "feat_remainder = list(X.columns[xgbc_tuning['transformer'].transformers_[2][2]])\n",
    "\n",
    "feat = [1] + feat_scale + feat_onehot + feat_remainder\n",
    "feat"
   ]
  },
  {
   "cell_type": "code",
   "execution_count": 55,
   "metadata": {},
   "outputs": [
    {
     "data": {
      "text/html": [
       "<div>\n",
       "<style scoped>\n",
       "    .dataframe tbody tr th:only-of-type {\n",
       "        vertical-align: middle;\n",
       "    }\n",
       "\n",
       "    .dataframe tbody tr th {\n",
       "        vertical-align: top;\n",
       "    }\n",
       "\n",
       "    .dataframe thead th {\n",
       "        text-align: right;\n",
       "    }\n",
       "</style>\n",
       "<table border=\"1\" class=\"dataframe\">\n",
       "  <thead>\n",
       "    <tr style=\"text-align: right;\">\n",
       "      <th></th>\n",
       "      <th>feature</th>\n",
       "      <th>importance</th>\n",
       "    </tr>\n",
       "  </thead>\n",
       "  <tbody>\n",
       "    <tr>\n",
       "      <th>1</th>\n",
       "      <td>Tenure</td>\n",
       "      <td>0.186433</td>\n",
       "    </tr>\n",
       "    <tr>\n",
       "      <th>14</th>\n",
       "      <td>Complain</td>\n",
       "      <td>0.145929</td>\n",
       "    </tr>\n",
       "    <tr>\n",
       "      <th>10</th>\n",
       "      <td>PreferedOrderCat_Mobile Phone</td>\n",
       "      <td>0.145399</td>\n",
       "    </tr>\n",
       "    <tr>\n",
       "      <th>12</th>\n",
       "      <td>MaritalStatus_Married</td>\n",
       "      <td>0.073251</td>\n",
       "    </tr>\n",
       "    <tr>\n",
       "      <th>5</th>\n",
       "      <td>NumberOfAddress</td>\n",
       "      <td>0.063289</td>\n",
       "    </tr>\n",
       "    <tr>\n",
       "      <th>6</th>\n",
       "      <td>DaySinceLastOrder</td>\n",
       "      <td>0.060572</td>\n",
       "    </tr>\n",
       "    <tr>\n",
       "      <th>13</th>\n",
       "      <td>MaritalStatus_Single</td>\n",
       "      <td>0.059024</td>\n",
       "    </tr>\n",
       "    <tr>\n",
       "      <th>7</th>\n",
       "      <td>CashbackAmount</td>\n",
       "      <td>0.048059</td>\n",
       "    </tr>\n",
       "    <tr>\n",
       "      <th>2</th>\n",
       "      <td>WarehouseToHome</td>\n",
       "      <td>0.047304</td>\n",
       "    </tr>\n",
       "    <tr>\n",
       "      <th>9</th>\n",
       "      <td>PreferedOrderCat_Laptop &amp; Accessory</td>\n",
       "      <td>0.046182</td>\n",
       "    </tr>\n",
       "    <tr>\n",
       "      <th>4</th>\n",
       "      <td>SatisfactionScore</td>\n",
       "      <td>0.043751</td>\n",
       "    </tr>\n",
       "    <tr>\n",
       "      <th>3</th>\n",
       "      <td>NumberOfDeviceRegistered</td>\n",
       "      <td>0.036663</td>\n",
       "    </tr>\n",
       "    <tr>\n",
       "      <th>8</th>\n",
       "      <td>PreferedOrderCat_Grocery</td>\n",
       "      <td>0.033145</td>\n",
       "    </tr>\n",
       "    <tr>\n",
       "      <th>11</th>\n",
       "      <td>PreferedOrderCat_Others</td>\n",
       "      <td>0.010998</td>\n",
       "    </tr>\n",
       "    <tr>\n",
       "      <th>0</th>\n",
       "      <td>1</td>\n",
       "      <td>0.000000</td>\n",
       "    </tr>\n",
       "  </tbody>\n",
       "</table>\n",
       "</div>"
      ],
      "text/plain": [
       "                                feature  importance\n",
       "1                                Tenure    0.186433\n",
       "14                             Complain    0.145929\n",
       "10        PreferedOrderCat_Mobile Phone    0.145399\n",
       "12                MaritalStatus_Married    0.073251\n",
       "5                       NumberOfAddress    0.063289\n",
       "6                     DaySinceLastOrder    0.060572\n",
       "13                 MaritalStatus_Single    0.059024\n",
       "7                        CashbackAmount    0.048059\n",
       "2                       WarehouseToHome    0.047304\n",
       "9   PreferedOrderCat_Laptop & Accessory    0.046182\n",
       "4                     SatisfactionScore    0.043751\n",
       "3              NumberOfDeviceRegistered    0.036663\n",
       "8              PreferedOrderCat_Grocery    0.033145\n",
       "11              PreferedOrderCat_Others    0.010998\n",
       "0                                     1    0.000000"
      ]
     },
     "execution_count": 55,
     "metadata": {},
     "output_type": "execute_result"
    }
   ],
   "source": [
    "# data frame feature importance yang diurutkan berdasarkan nilai importance yang paling tinggi\n",
    "imp = pd.DataFrame({\n",
    "    'feature':feat,\n",
    "    'importance':xgbc_tuning['model'].feature_importances_\n",
    "}).sort_values('importance', ascending=False)\n",
    "\n",
    "imp"
   ]
  },
  {
   "cell_type": "code",
   "execution_count": 56,
   "metadata": {},
   "outputs": [
    {
     "data": {
      "text/plain": [
       "Text(0.5, 1.0, 'Feature Importance')"
      ]
     },
     "execution_count": 56,
     "metadata": {},
     "output_type": "execute_result"
    },
    {
     "data": {
      "image/png": "[encoded data removed]",
      "text/plain": [
       "<Figure size 640x480 with 1 Axes>"
      ]
     },
     "metadata": {},
     "output_type": "display_data"
    }
   ],
   "source": [
    "# membuat barplot untuk melakukan visualisasi terhadap feature importance\n",
    "sns.barplot(data=imp, y='feature', x='importance', color='b')\n",
    "plt.title('Feature Importance')"
   ]
  },
  {
   "attachments": {},
   "cell_type": "markdown",
   "metadata": {},
   "source": [
    "3 Features dengan nilai importance tertinggi atau memiliki pengaruh penting terhadap customer dalam melakukan churn atau tidak berdasarkan feature importance adalah:\n",
    "- Tenure atau lamanya menjadi customer perusahan e-commerce ini\n",
    "- Complain atau keluhan dalam satu bulan terakhir\n",
    "- PreferedOrderCat_Mobile Phone atau kategori pembelian customer dalan satu bulan terakhir"
   ]
  },
  {
   "attachments": {},
   "cell_type": "markdown",
   "metadata": {},
   "source": [
    "### Shapley Value of Explanations (SHAP)"
   ]
  },
  {
   "cell_type": "code",
   "execution_count": 57,
   "metadata": {},
   "outputs": [],
   "source": [
    "my_model = xgbc_tuning[-1]\n",
    "my_data = xgbc_tuning[0].fit_transform(X_train)\n",
    "\n",
    "# define explainer\n",
    "explainer = shap.TreeExplainer(\n",
    "    model = my_model,\n",
    "    data = my_data\n",
    ")\n",
    "\n",
    "# hitung shap value untuk tiap baris di data train\n",
    "shap_values = explainer.shap_values(my_data)\n"
   ]
  },
  {
   "cell_type": "code",
   "execution_count": 58,
   "metadata": {},
   "outputs": [
    {
     "data": {
      "image/png": "[encoded data removed]",
      "text/plain": [
       "<Figure size 800x750 with 2 Axes>"
      ]
     },
     "metadata": {},
     "output_type": "display_data"
    }
   ],
   "source": [
    "# menampilkan feature yang paling memengaruhi churn\n",
    "shap.summary_plot(shap_values, my_data, feature_names = feat)"
   ]
  },
  {
   "attachments": {},
   "cell_type": "markdown",
   "metadata": {},
   "source": [
    "3 Features yang memiliki pengaruh penting terhadap customer dalam melakukan churn atau tidak berdasarkan SHAP adalah:\n",
    "- Tenure: Semakin lama menjadi customer perusahan e-commerce ini (tenure semakin tinggi), maka customer cenderung tidak melakukan churn. Customer dengan tenure yang semakin kecil, maka customer cenderung melakukan churn.\n",
    "- CashbackAmount: Semakin rendah jumlah promosi dalam bentuk pengembalian uang (casback amount), maka customer cenderung melakukan churn.\n",
    "- Complain: Customer yang memberikan keluhan dalam satu bulan terakhir, cenderung melakukan churn."
   ]
  },
  {
   "attachments": {},
   "cell_type": "markdown",
   "metadata": {},
   "source": [
    "### Insights of Features Importance & SHAP combined"
   ]
  },
  {
   "attachments": {},
   "cell_type": "markdown",
   "metadata": {},
   "source": [
    "Melalui explainable ML, baik menggunakan feature importance dan juga SHAP, feature yang paling mempengaruhi customer melakukan churn adalah `Tenure` dan juga `Complain`."
   ]
  },
  {
   "attachments": {},
   "cell_type": "markdown",
   "metadata": {},
   "source": [
    "**Tenure**"
   ]
  },
  {
   "cell_type": "code",
   "execution_count": 59,
   "metadata": {},
   "outputs": [
    {
     "data": {
      "text/plain": [
       "<AxesSubplot: xlabel='Churn', ylabel='Tenure'>"
      ]
     },
     "execution_count": 59,
     "metadata": {},
     "output_type": "execute_result"
    },
    {
     "data": {
      "image/png": "[encoded data removed]",
      "text/plain": [
       "<Figure size 640x480 with 1 Axes>"
      ]
     },
     "metadata": {},
     "output_type": "display_data"
    }
   ],
   "source": [
    "sns.barplot(x='Churn', y='Tenure', data=df)"
   ]
  },
  {
   "attachments": {},
   "cell_type": "markdown",
   "metadata": {},
   "source": [
    "Hasil dari feature importance dan SHAP yang menunjukkan bahwa tenure merupakan feature yang mempengaruhi custumer dalam melakukan churn atau tidak, didukung juga dengan barplot di atas. Customer dengan rata-rata tenure yang rendah, customer cenderung melakukan churn."
   ]
  },
  {
   "attachments": {},
   "cell_type": "markdown",
   "metadata": {},
   "source": [
    "**Complain**"
   ]
  },
  {
   "cell_type": "code",
   "execution_count": 60,
   "metadata": {},
   "outputs": [
    {
     "data": {
      "text/plain": [
       "<AxesSubplot: xlabel='Churn', ylabel='Complain'>"
      ]
     },
     "execution_count": 60,
     "metadata": {},
     "output_type": "execute_result"
    },
    {
     "data": {
      "image/png": "[encoded data removed]",
      "text/plain": [
       "<Figure size 640x480 with 1 Axes>"
      ]
     },
     "metadata": {},
     "output_type": "display_data"
    }
   ],
   "source": [
    "sns.barplot(x='Churn', y='Complain', data=df)"
   ]
  },
  {
   "attachments": {},
   "cell_type": "markdown",
   "metadata": {},
   "source": [
    "Hasil dari feature importance dan SHAP yang menunjukkan bahwa complain merupakan feature yang mempengaruhi custumer dalam melakukan churn atau tidak, didukung juga dengan barplot di atas. Customer dengan rata-rata memberikan complain kepada perusahaan, cenderung melakukan churn."
   ]
  },
  {
   "attachments": {},
   "cell_type": "markdown",
   "metadata": {},
   "source": [
    "---\n",
    "## **Save Final Model**"
   ]
  },
  {
   "attachments": {},
   "cell_type": "markdown",
   "metadata": {},
   "source": [
    "### Save with Pickle\n",
    "Pickle adalah salah satu library yang bisa digunakan untuk menyimpan model Machine Learning yang sudah dibuat."
   ]
  },
  {
   "cell_type": "code",
   "execution_count": 61,
   "metadata": {},
   "outputs": [],
   "source": [
    "import pickle"
   ]
  },
  {
   "cell_type": "code",
   "execution_count": 62,
   "metadata": {},
   "outputs": [],
   "source": [
    "# best model\n",
    "xgbc_tuning = random_xgbc.best_estimator_\n",
    "xgbc_tuning\n",
    "\n",
    "# fit\n",
    "xgbc_tuning.fit(X, y)\n",
    "\n",
    "# save with pickle\n",
    "pickle.dump(xgbc_tuning, open('finalmodel_xgboost.sav', 'wb'))"
   ]
  },
  {
   "attachments": {},
   "cell_type": "markdown",
   "metadata": {},
   "source": [
    "---\n",
    "## **Prediction to Customer with Final Model**"
   ]
  },
  {
   "attachments": {},
   "cell_type": "markdown",
   "metadata": {},
   "source": [
    "### Load Model"
   ]
  },
  {
   "cell_type": "code",
   "execution_count": 63,
   "metadata": {},
   "outputs": [
    {
     "data": {
      "text/plain": [
       "Pipeline(steps=[('transformer',\n",
       "                 ColumnTransformer(remainder='passthrough',\n",
       "                                   transformers=[('pipe_impute_robust',\n",
       "                                                  Pipeline(steps=[('median',\n",
       "                                                                   SimpleImputer(strategy='median')),\n",
       "                                                                  ('poly',\n",
       "                                                                   PolynomialFeatures(degree=1)),\n",
       "                                                                  ('scaler',\n",
       "                                                                   StandardScaler())]),\n",
       "                                                  ['Tenure', 'WarehouseToHome',\n",
       "                                                   'NumberOfDeviceRegistered',\n",
       "                                                   'SatisfactionScore',\n",
       "                                                   'NumberOfAddress',\n",
       "                                                   'DaySinceLastOrder',...\n",
       "                               feature_types=None, gamma=None, gpu_id=None,\n",
       "                               grow_policy=None, importance_type=None,\n",
       "                               interaction_constraints=None,\n",
       "                               learning_rate=0.3500000000000001, max_bin=None,\n",
       "                               max_cat_threshold=None, max_cat_to_onehot=None,\n",
       "                               max_delta_step=None, max_depth=105,\n",
       "                               max_leaves=None, min_child_weight=None,\n",
       "                               missing=nan, monotone_constraints=None,\n",
       "                               n_estimators=78, n_jobs=None,\n",
       "                               num_parallel_tree=None, predictor=None, ...))])"
      ]
     },
     "execution_count": 63,
     "metadata": {},
     "output_type": "execute_result"
    }
   ],
   "source": [
    "model = pickle.load(open('finalmodel_xgboost.sav', 'rb'))\n",
    "model"
   ]
  },
  {
   "attachments": {},
   "cell_type": "markdown",
   "metadata": {},
   "source": [
    "### Prediction to Customer in Dataset"
   ]
  },
  {
   "cell_type": "code",
   "execution_count": 64,
   "metadata": {},
   "outputs": [
    {
     "data": {
      "text/html": [
       "<div>\n",
       "<style scoped>\n",
       "    .dataframe tbody tr th:only-of-type {\n",
       "        vertical-align: middle;\n",
       "    }\n",
       "\n",
       "    .dataframe tbody tr th {\n",
       "        vertical-align: top;\n",
       "    }\n",
       "\n",
       "    .dataframe thead th {\n",
       "        text-align: right;\n",
       "    }\n",
       "</style>\n",
       "<table border=\"1\" class=\"dataframe\">\n",
       "  <thead>\n",
       "    <tr style=\"text-align: right;\">\n",
       "      <th></th>\n",
       "      <th>Tenure</th>\n",
       "      <th>WarehouseToHome</th>\n",
       "      <th>NumberOfDeviceRegistered</th>\n",
       "      <th>PreferedOrderCat</th>\n",
       "      <th>SatisfactionScore</th>\n",
       "      <th>MaritalStatus</th>\n",
       "      <th>NumberOfAddress</th>\n",
       "      <th>Complain</th>\n",
       "      <th>DaySinceLastOrder</th>\n",
       "      <th>CashbackAmount</th>\n",
       "    </tr>\n",
       "  </thead>\n",
       "  <tbody>\n",
       "    <tr>\n",
       "      <th>7</th>\n",
       "      <td>1.0</td>\n",
       "      <td>11.0</td>\n",
       "      <td>4</td>\n",
       "      <td>Mobile Phone</td>\n",
       "      <td>5</td>\n",
       "      <td>Single</td>\n",
       "      <td>3</td>\n",
       "      <td>0</td>\n",
       "      <td>1.0</td>\n",
       "      <td>154.73</td>\n",
       "    </tr>\n",
       "  </tbody>\n",
       "</table>\n",
       "</div>"
      ],
      "text/plain": [
       "   Tenure  WarehouseToHome  NumberOfDeviceRegistered PreferedOrderCat  \\\n",
       "7     1.0             11.0                         4     Mobile Phone   \n",
       "\n",
       "   SatisfactionScore MaritalStatus  NumberOfAddress  Complain  \\\n",
       "7                  5        Single                3         0   \n",
       "\n",
       "   DaySinceLastOrder  CashbackAmount  \n",
       "7                1.0          154.73  "
      ]
     },
     "execution_count": 64,
     "metadata": {},
     "output_type": "execute_result"
    }
   ],
   "source": [
    "# customer index 7 yang akan diprediksi\n",
    "X.iloc[[7], :]"
   ]
  },
  {
   "cell_type": "code",
   "execution_count": 65,
   "metadata": {},
   "outputs": [
    {
     "data": {
      "text/plain": [
       "array([1])"
      ]
     },
     "execution_count": 65,
     "metadata": {},
     "output_type": "execute_result"
    }
   ],
   "source": [
    "# melakukan predict pada seorang customer\n",
    "\n",
    "model.predict(X.iloc[[7], :])\n",
    "\n",
    "# customer index 7 diprediksi akan churn"
   ]
  },
  {
   "cell_type": "code",
   "execution_count": 66,
   "metadata": {},
   "outputs": [
    {
     "data": {
      "text/plain": [
       "1"
      ]
     },
     "execution_count": 66,
     "metadata": {},
     "output_type": "execute_result"
    }
   ],
   "source": [
    "# y actual = 1 (Churn)\n",
    "# prediksi di atas ternyata benar. Customer index 7 melakukan churn (TP)\n",
    "y[7]"
   ]
  },
  {
   "attachments": {},
   "cell_type": "markdown",
   "metadata": {},
   "source": [
    "### Prediction to New Customer"
   ]
  },
  {
   "cell_type": "code",
   "execution_count": 67,
   "metadata": {},
   "outputs": [
    {
     "data": {
      "text/html": [
       "<div>\n",
       "<style scoped>\n",
       "    .dataframe tbody tr th:only-of-type {\n",
       "        vertical-align: middle;\n",
       "    }\n",
       "\n",
       "    .dataframe tbody tr th {\n",
       "        vertical-align: top;\n",
       "    }\n",
       "\n",
       "    .dataframe thead th {\n",
       "        text-align: right;\n",
       "    }\n",
       "</style>\n",
       "<table border=\"1\" class=\"dataframe\">\n",
       "  <thead>\n",
       "    <tr style=\"text-align: right;\">\n",
       "      <th></th>\n",
       "      <th>Tenure</th>\n",
       "      <th>WarehouseToHome</th>\n",
       "      <th>NumberOfDeviceRegistered</th>\n",
       "      <th>PreferedOrderCat</th>\n",
       "      <th>SatisfactionScore</th>\n",
       "      <th>MaritalStatus</th>\n",
       "      <th>NumberOfAddress</th>\n",
       "      <th>Complain</th>\n",
       "      <th>DaySinceLastOrder</th>\n",
       "      <th>CashbackAmount</th>\n",
       "    </tr>\n",
       "  </thead>\n",
       "  <tbody>\n",
       "    <tr>\n",
       "      <th>0</th>\n",
       "      <td>5</td>\n",
       "      <td>22</td>\n",
       "      <td>3</td>\n",
       "      <td>Fashion</td>\n",
       "      <td>3</td>\n",
       "      <td>Single</td>\n",
       "      <td>10</td>\n",
       "      <td>0</td>\n",
       "      <td>11</td>\n",
       "      <td>155</td>\n",
       "    </tr>\n",
       "  </tbody>\n",
       "</table>\n",
       "</div>"
      ],
      "text/plain": [
       "   Tenure  WarehouseToHome  NumberOfDeviceRegistered PreferedOrderCat  \\\n",
       "0       5               22                         3          Fashion   \n",
       "\n",
       "   SatisfactionScore MaritalStatus  NumberOfAddress  Complain  \\\n",
       "0                  3        Single               10         0   \n",
       "\n",
       "   DaySinceLastOrder  CashbackAmount  \n",
       "0                 11             155  "
      ]
     },
     "execution_count": 67,
     "metadata": {},
     "output_type": "execute_result"
    }
   ],
   "source": [
    "# membuat customer baru dengan memasukkan data-data customer baru pada dataframe\n",
    "new_cust = pd.DataFrame({\n",
    "    'Tenure':[5],\n",
    "    'WarehouseToHome':[22],\n",
    "    'NumberOfDeviceRegistered':[3],\n",
    "    'PreferedOrderCat':['Fashion'],\n",
    "    'SatisfactionScore':[3],\n",
    "    'MaritalStatus':['Single'],\n",
    "    'NumberOfAddress':[10],\n",
    "    'Complain':[0],\n",
    "    'DaySinceLastOrder':[11],\n",
    "    'CashbackAmount':[155]\n",
    "})\n",
    "new_cust"
   ]
  },
  {
   "cell_type": "code",
   "execution_count": 68,
   "metadata": {},
   "outputs": [
    {
     "data": {
      "text/plain": [
       "array([0])"
      ]
     },
     "execution_count": 68,
     "metadata": {},
     "output_type": "execute_result"
    }
   ],
   "source": [
    "# melakukan predict pada seorang customer baru \n",
    "model.predict(new_cust)\n",
    "\n",
    "# customer baru diprediksi tidak akan melakukan churn"
   ]
  },
  {
   "attachments": {},
   "cell_type": "markdown",
   "metadata": {},
   "source": [
    "---\n",
    "## **Conclusion and Recommendation**"
   ]
  },
  {
   "cell_type": "markdown",
   "metadata": {},
   "source": [
    "### Conclusion"
   ]
  },
  {
   "attachments": {},
   "cell_type": "markdown",
   "metadata": {},
   "source": [
    "- Machine Learning mampu mengatasi masalah yang ada pada perusahaan e-commerce ini, yaitu untuk melakukan prediksi pada customer yang akan melakukan churn. Algoritma machine learning yang digunakan pada model ini adalah XGBoost yang dilakukan tuning sebanyak dua kali, dengan nilai akurasi model sebesar 78% menggunakan f2 score. Model ini mampu menurunkan kerugian perusahaan sebesar 76.59%, dengan menekan angka false negative.\n",
    "- Berdasarkan explainable machine learning menggunakan feature importance dan SHAP, faktor-faktor yang mempengaruhi customer melakukan churn adalah tenure (lama menjadi customer perusahaan) dan complaint."
   ]
  },
  {
   "cell_type": "markdown",
   "metadata": {},
   "source": [
    "### Recommendation"
   ]
  },
  {
   "attachments": {},
   "cell_type": "markdown",
   "metadata": {},
   "source": [
    "**For Business:**\n",
    "\n",
    "Customer yang melakukan churn dapat menimbulkan kerugian bagi perusahaan. Oleh karena itu, perusahaan e-commerce perlu menyusun strategi agar dapat tetap menjaga kualitas produk dan pelayanan, serta membuat UX yang user friendly, agar dapat menghindari complaint yang masuk. Selain itu, perusahaan e-commerce perlu menyusun strategi agar dapat menciptakan loyalitas pelanggan, baik dengan melakukan inovasi pada produk yang dipasarkan dan memberikan penawaran yang menarik, sehingga tenure customer semakin tinggi.\n",
    "\n",
    "Selain itu, perusahaan e-commerce perlu memahami Marketing Funnel. Marketing Funnel adalah sebuah konsep untuk menjelaskan tahapan yang dilalui oleh pelanggan sebelum akhirnya melakukan pembelian produk. Dengan mengetahui dan memahami Marketing Funnel, maka sebuah perusahaan akan lebih mudah untuk mengidentifikasi penyebab pelanggan membatalkan pembelian, sehingga dapat menyusun strategi untuk dapat mengatasinya.\n",
    "\n",
    "Perusahaan perlu menggunakan machine learning yang sudah dibuat, agar dapat mengurangi kerugian bagi perusahaan dengan memberikan promosi tepat sasaran kepada customer yang akan melakukan churn.\n",
    "\n",
    "**For Model:**\n",
    "\n",
    "Akurasi model machine learning yang dibuat terbatas pada range feature:\n",
    "- Tenure: 0-61 bulan\n",
    "- Warehouse To Home: 5-127 km\n",
    "- Number of Device Registered: 1-6 devices\n",
    "- Number of Address: 1-22 address\n",
    "- Day since last order: 0-46 hari\n",
    "- Cashback Amount: 0-324.99 \n",
    "\n",
    "Oleh karena itu, perlu mengumpulkan lebih banyak data khususnya pada minority class, perlu menambahkan parameter lain dalam hyperparameter tuning, serta perlu ID customer untuk memastikan dan mengetahui data yang duplikat, serta perlu feature lain seperti lama pengiriman produk, ketepatan waktu pengiriman, dan lain-lain.\n",
    "\n"
   ]
  }
 ],
 "metadata": {
  "kernelspec": {
   "display_name": "base",
   "language": "python",
   "name": "python3"
  },
  "language_info": {
   "codemirror_mode": {
    "name": "ipython",
    "version": 3
   },
   "file_extension": ".py",
   "mimetype": "text/x-python",
   "name": "python",
   "nbconvert_exporter": "python",
   "pygments_lexer": "ipython3",
   "version": "3.9.16"
  },
  "orig_nbformat": 4,
  "vscode": {
   "interpreter": {
    "hash": "40d59981e5d852fd1686b5f31528192b87f93b28d8648c339e8eca2fbbfdfbba"
   }
  }
 },
 "nbformat": 4,
 "nbformat_minor": 2
}
